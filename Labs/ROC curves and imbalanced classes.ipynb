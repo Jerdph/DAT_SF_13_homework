{
 "metadata": {
  "name": "",
  "signature": "sha256:4533820e0238ff4e4baee7f6931eecb51823dbf043d9eeafded92fb6d3009378"
 },
 "nbformat": 3,
 "nbformat_minor": 0,
 "worksheets": [
  {
   "cells": [
    {
     "cell_type": "markdown",
     "metadata": {},
     "source": [
      "# GA Data Science 13 \n",
      "\n",
      "### ROC Curves, Imbalanced Classes\n",
      "\n",
      "In this lab/lecture, we will learn about imbalanced classes and ROC curves, a more sophisticated measure of classifier performance than outputing just an error rate.\n",
      "\n",
      "ROC curves work in the context of Binary classification. And they capture the tradeoff between the True Positive and False positive percentages. A perfect classifier would have 100% true positive percentage, meaning that it classified all the elements in the positive class as being positive and it made no errors in misclassifying the elements in the negative class as being positive. \n",
      "\n",
      "True Positive Percentage = (# True Positives) / (# All Positives)\n",
      "\n",
      "False Positive Percentage = (# False Positives) / (# All Negatives)\n",
      "\n",
      "Although this is possible, in reality, as you increase the true positive percentage, you also increase the false positive percentage. The ROC curve captures this relationship. \n"
     ]
    },
    {
     "cell_type": "markdown",
     "metadata": {},
     "source": [
      "# Logistic Regression on Titanic Dataset"
     ]
    },
    {
     "cell_type": "code",
     "collapsed": false,
     "input": [
      "%matplotlib inline\n",
      "import matplotlib.pyplot as plt\n",
      "import numpy as np\n",
      "import pandas as pd\n",
      "from sklearn.cross_validation import train_test_split\n",
      "from sklearn.linear_model import LogisticRegression\n",
      "from sklearn.metrics import classification_report"
     ],
     "language": "python",
     "metadata": {},
     "outputs": [],
     "prompt_number": 1
    },
    {
     "cell_type": "code",
     "collapsed": false,
     "input": [
      "# import data\n",
      "data_orig = pd.read_csv('titanic-train.csv')"
     ],
     "language": "python",
     "metadata": {},
     "outputs": [],
     "prompt_number": 2
    },
    {
     "cell_type": "code",
     "collapsed": false,
     "input": [
      "#for the purposes of this example, will make the minority class, survived, much smaller \n",
      "#than the majority class. We will make the survived class have only 100 entries\n",
      "\n",
      "data_survived = data_orig[data_orig.Survived == 1]\n",
      "data_passed = data_orig[data_orig.Survived == 0]\n",
      "tmp = [data_survived[:100], data_passed]\n",
      "data = pd.concat(tmp)\n",
      "print data.info()\n"
     ],
     "language": "python",
     "metadata": {},
     "outputs": [
      {
       "output_type": "stream",
       "stream": "stdout",
       "text": [
        "<class 'pandas.core.frame.DataFrame'>\n",
        "Int64Index: 649 entries, 1 to 890\n",
        "Data columns (total 12 columns):\n",
        "PassengerId    649 non-null int64\n",
        "Survived       649 non-null int64\n",
        "Pclass         649 non-null int64\n",
        "Name           649 non-null object\n",
        "Sex            649 non-null object\n",
        "Age            505 non-null float64\n",
        "SibSp          649 non-null int64\n",
        "Parch          649 non-null int64\n",
        "Ticket         649 non-null object\n",
        "Fare           649 non-null float64\n",
        "Cabin          100 non-null object\n",
        "Embarked       648 non-null object\n",
        "dtypes: float64(2), int64(5), object(5)None\n"
       ]
      }
     ],
     "prompt_number": 3
    },
    {
     "cell_type": "code",
     "collapsed": false,
     "input": [
      "\n",
      "#fill na, define features and target numpy arrays\n",
      "numerical_features = data.get(['Fare', 'Pclass', 'Age'])\n",
      "features_array = numerical_features.fillna(numerical_features.dropna().median()).values\n",
      "target = data.Survived.values\n",
      "\n",
      "# train test split\n",
      "features_train, features_test, target_train, target_test = train_test_split(features_array, target, test_size=0.20, random_state=0)\n",
      "\n",
      "# train logistic regression, evaluate on test\n",
      "lr = LogisticRegression(C=1)\n",
      "lr.fit(features_train, target_train)\n",
      "    \n",
      "#clf = train_test(data_out)\n",
      "target_predicted = lr.predict(features_test)\n",
      "    \n",
      "#evaluate accuracy\n",
      "print(\"Train Testing Results \\n\\n\")\n",
      "\n",
      "print(classification_report(target_test, target_predicted,\n",
      "                         target_names=['not survived', 'survived']))\n"
     ],
     "language": "python",
     "metadata": {},
     "outputs": [
      {
       "output_type": "stream",
       "stream": "stdout",
       "text": [
        "Train Testing Results \n",
        "\n",
        "\n",
        "              precision    recall  f1-score   support\n",
        "\n",
        "not survived       0.84      0.98      0.90       109\n",
        "    survived       0.00      0.00      0.00        21\n",
        "\n",
        " avg / total       0.70      0.82      0.76       130\n",
        "\n"
       ]
      }
     ],
     "prompt_number": 7
    },
    {
     "cell_type": "markdown",
     "metadata": {},
     "source": [
      "We see that the classifier does not do so well on the \"Survived\" Class ... "
     ]
    },
    {
     "cell_type": "markdown",
     "metadata": {},
     "source": [
      "## Let's downsample the majority class to train our classifer and see if we can get better performance\n",
      "\n",
      "To do this, we will train our logistic regression classifier with downsampled data and use this trained classifier on the non-downsampled data to see if it can do a better job"
     ]
    },
    {
     "cell_type": "code",
     "collapsed": false,
     "input": [
      "# We are downsampling the majority class and training a new classifier\n",
      "\n",
      "tmp = [data_survived[:100], data_passed[:100]]\n",
      "data_ds = pd.concat(tmp)\n",
      "\n",
      "numerical_features_ds = data_ds.get(['Fare', 'Pclass', 'Age'])\n",
      "features_array_ds = numerical_features_ds.fillna(numerical_features_ds.dropna().median()).values\n",
      "target_ds = data_ds.Survived.values\n",
      "\n",
      "#train test split\n",
      "features_train_ds, features_test_ds, target_train_ds, target_test_ds = train_test_split(features_array_ds, target_ds, test_size=0.20, random_state=0)\n",
      "\n",
      "# train logistic regression, evaluate on test\n",
      "lr_ds = LogisticRegression(C=1)\n",
      "lr_ds.fit(features_train_ds, target_train_ds)\n"
     ],
     "language": "python",
     "metadata": {},
     "outputs": [
      {
       "metadata": {},
       "output_type": "pyout",
       "prompt_number": 8,
       "text": [
        "LogisticRegression(C=1, class_weight=None, dual=False, fit_intercept=True,\n",
        "          intercept_scaling=1, penalty='l2', random_state=None, tol=0.0001)"
       ]
      }
     ],
     "prompt_number": 8
    },
    {
     "cell_type": "markdown",
     "metadata": {},
     "source": [
      "####Now we are taking this classifier trained on downsampled data and seeing if it performs better with the full dataset. Note that we are testing the classifier \"lr_ds\" with 'features_test'\n"
     ]
    },
    {
     "cell_type": "code",
     "collapsed": false,
     "input": [
      "target_predicted_ds = lr_ds.predict(features_test)\n",
      "    \n",
      "#evaluate accuracy\n",
      "print(\"Train Testing Results With Downsampling the majority class \\n\\n\")\n",
      "\n",
      "print(classification_report(target_test, target_predicted_ds,\n",
      "                         target_names=['not survived', 'survived']))\n",
      "    "
     ],
     "language": "python",
     "metadata": {},
     "outputs": [
      {
       "output_type": "stream",
       "stream": "stdout",
       "text": [
        "Train Testing Results With Downsampling the majority class \n",
        "\n",
        "\n",
        "              precision    recall  f1-score   support\n",
        "\n",
        "not survived       0.86      0.72      0.78       109\n",
        "    survived       0.21      0.38      0.27        21\n",
        "\n",
        " avg / total       0.75      0.66      0.70       130\n",
        "\n"
       ]
      }
     ],
     "prompt_number": 9
    },
    {
     "cell_type": "markdown",
     "metadata": {},
     "source": [
      "We see that the classifier does much better on the \"Survived\" class and a little worse on the \"Not Survived\" Class"
     ]
    },
    {
     "cell_type": "markdown",
     "metadata": {},
     "source": [
      "###Instead of downsampling the majority class, let's upsample the minority class"
     ]
    },
    {
     "cell_type": "code",
     "collapsed": false,
     "input": [
      "tmp = [data_survived, data_survived, data_passed]\n",
      "data_us = pd.concat(tmp)\n",
      "\n",
      "numerical_features_us = data_us.get(['Fare', 'Pclass', 'Age'])\n",
      "features_array_us = numerical_features_us.fillna(numerical_features_us.dropna().median()).values\n",
      "target_us = data_us.Survived.values\n",
      "\n",
      "#train test split\n",
      "features_train_us, features_test_us, target_train_us, target_test_us = train_test_split(features_array_us, target_us, test_size=0.20, random_state=0)\n",
      "\n",
      "# train logistic regression, evaluate on test\n",
      "lr_us = LogisticRegression(C=1)\n",
      "lr_us.fit(features_train_us, target_train_us)\n"
     ],
     "language": "python",
     "metadata": {},
     "outputs": [
      {
       "metadata": {},
       "output_type": "pyout",
       "prompt_number": 10,
       "text": [
        "LogisticRegression(C=1, class_weight=None, dual=False, fit_intercept=True,\n",
        "          intercept_scaling=1, penalty='l2', random_state=None, tol=0.0001)"
       ]
      }
     ],
     "prompt_number": 10
    },
    {
     "cell_type": "markdown",
     "metadata": {},
     "source": [
      "####Now we are taking this classifier trained on downsampled data and seeing if it performs better with the full dataset. Note that we are testing the classifier \"lr_us\" with 'features_test'\n"
     ]
    },
    {
     "cell_type": "code",
     "collapsed": false,
     "input": [
      "target_predicted_us = lr_us.predict(features_test)\n",
      "    \n",
      "#evaluate accuracy\n",
      "print(\"Train Testing Results With Downsampling the majority class and Upsampling the Minority Class \\n\\n\")\n",
      "\n",
      "print(classification_report(target_test, target_predicted_us,\n",
      "                         target_names=['not survived', 'survived']))\n",
      "    "
     ],
     "language": "python",
     "metadata": {},
     "outputs": [
      {
       "output_type": "stream",
       "stream": "stdout",
       "text": [
        "Train Testing Results With Downsampling the majority class and Upsampling the Minority Class \n",
        "\n",
        "\n",
        "              precision    recall  f1-score   support\n",
        "\n",
        "not survived       0.86      0.66      0.75       109\n",
        "    survived       0.20      0.43      0.27        21\n",
        "\n",
        " avg / total       0.75      0.62      0.67       130\n",
        "\n"
       ]
      }
     ],
     "prompt_number": 11
    },
    {
     "cell_type": "markdown",
     "metadata": {},
     "source": [
      "## Model evaluation and interpretation, ROC"
     ]
    },
    {
     "cell_type": "markdown",
     "metadata": {},
     "source": [
      "Logistic Regression is a probabilistic models: instead of just predicting a binary outcome (survived or not) given the input features it can also estimates the probability of the outcome given the input features using the `predict_proba` method:"
     ]
    },
    {
     "cell_type": "code",
     "collapsed": false,
     "input": [
      "proba_lr_ds = lr_ds.predict_proba(features_test)\n",
      "\n",
      "print proba_lr_ds[:5]"
     ],
     "language": "python",
     "metadata": {},
     "outputs": [
      {
       "output_type": "stream",
       "stream": "stdout",
       "text": [
        "[[ 0.53003519  0.46996481]\n",
        " [ 0.57799702  0.42200298]\n",
        " [ 0.56418399  0.43581601]\n",
        " [ 0.76572377  0.23427623]\n",
        " [ 0.62389213  0.37610787]]\n"
       ]
      }
     ],
     "prompt_number": 12
    },
    {
     "cell_type": "markdown",
     "metadata": {},
     "source": [
      "By default the decision threshold is 0.5: if we vary the decision threshold from 0 to 1 we could generate a family of binary classifier models that address all the possible trade offs between false positive and false negative prediction errors.\n",
      "\n",
      "We can summarize the performance of a binary classifier for all the possible thresholds by plotting the ROC curve and quantifying the Area under the ROC curve:"
     ]
    },
    {
     "cell_type": "code",
     "collapsed": false,
     "input": [
      "from sklearn.metrics import roc_curve\n",
      "from sklearn.metrics import auc\n",
      "\n",
      "def plot_roc_curve(target_test, target_predicted_proba, this_label):\n",
      "    fpr, tpr, thresholds = roc_curve(target_test, target_predicted_proba[:, 1])\n",
      "    \n",
      "    roc_auc = auc(fpr, tpr)\n",
      "    # Plot ROC curve\n",
      "    plt.plot(fpr, tpr, label= this_label + ', ROC Area = %0.3f' % roc_auc)\n",
      "    plt.plot([0, 1], [0, 1], 'k--')  # random predictions curve\n",
      "    plt.xlim([0.0, 1.0])\n",
      "    plt.ylim([0.0, 1.0])\n",
      "    plt.xlabel('False Positive Rate or (1 - Specifity)')\n",
      "    plt.ylabel('True Positive Rate or (Sensitivity)')\n",
      "    plt.title('ROC')\n",
      "    plt.legend(loc=\"lower right\")"
     ],
     "language": "python",
     "metadata": {},
     "outputs": [],
     "prompt_number": 13
    },
    {
     "cell_type": "code",
     "collapsed": false,
     "input": [
      "plot_roc_curve(target_test, proba_lr, \"DS\")\n"
     ],
     "language": "python",
     "metadata": {},
     "outputs": [
      {
       "metadata": {},
       "output_type": "display_data",
       "png": "[encoded data removed]",
       "text": [
        "<matplotlib.figure.Figure at 0x10a0cb650>"
       ]
      }
     ],
     "prompt_number": 36
    },
    {
     "cell_type": "markdown",
     "metadata": {},
     "source": [
      "#Another Strategy ... Adjusting Class Weights \n"
     ]
    },
    {
     "cell_type": "code",
     "collapsed": false,
     "input": [
      "# We'll use the datasets before we downsample or upsample ... \n",
      "#Remember that our classifier did very poorly in classifying the minority class here\n",
      "features_train, features_test, target_train, target_test = train_test_split(features_array, target, test_size=0.20, random_state=0)\n",
      "\n",
      "# train logistic regression, evaluate on test, set class_weight = 'auto'\n",
      "lr = LogisticRegression(C=1, class_weight='auto')\n",
      "lr.fit(features_train, target_train)\n",
      "    \n",
      "#clf = train_test(data_out)\n",
      "target_predicted = lr.predict(features_test)\n",
      "    \n",
      "#evaluate accuracy\n",
      "print(\"Train Testing Results \\n\\n\")\n",
      "\n",
      "print(classification_report(target_test, target_predicted,\n",
      "                         target_names=['not survived', 'survived']))"
     ],
     "language": "python",
     "metadata": {},
     "outputs": [
      {
       "output_type": "stream",
       "stream": "stdout",
       "text": [
        "Train Testing Results \n",
        "\n",
        "\n",
        "              precision    recall  f1-score   support\n",
        "\n",
        "not survived       0.84      0.76      0.80       109\n",
        "    survived       0.16      0.24      0.19        21\n",
        "\n",
        " avg / total       0.73      0.68      0.70       130\n",
        "\n"
       ]
      }
     ],
     "prompt_number": 41
    },
    {
     "cell_type": "markdown",
     "metadata": {},
     "source": [
      "Much better result without having to oversample or undersample"
     ]
    },
    {
     "cell_type": "code",
     "collapsed": false,
     "input": [],
     "language": "python",
     "metadata": {},
     "outputs": []
    }
   ],
   "metadata": {}
  }
 ]
}