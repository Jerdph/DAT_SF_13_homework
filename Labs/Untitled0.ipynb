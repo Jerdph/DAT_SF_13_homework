{
 "metadata": {
  "name": "",
  "signature": "sha256:bf6bb19e482f7879b844a8001a1f412f2f52fa3f4b5c3e99f3019264290e32c2"
 },
 "nbformat": 3,
 "nbformat_minor": 0,
 "worksheets": []
}