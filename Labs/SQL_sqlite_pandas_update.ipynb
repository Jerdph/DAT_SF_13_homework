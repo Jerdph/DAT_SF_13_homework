{
 "metadata": {
  "name": "",
  "signature": "sha256:6d054081a8c5c9c3a19d2070cb9582426b70eb988caa8b82593f7603f34d91a1"
 },
 "nbformat": 3,
 "nbformat_minor": 0,
 "worksheets": [
  {
   "cells": [
    {
     "cell_type": "heading",
     "level": 1,
     "metadata": {},
     "source": [
      "SQLite"
     ]
    },
    {
     "cell_type": "markdown",
     "metadata": {},
     "source": [
      "- relational database\n",
      "- self-contained and portable\n",
      "- no client / server\n",
      "- commonly used for small projects \n",
      "- great python support"
     ]
    },
    {
     "cell_type": "code",
     "collapsed": false,
     "input": [
      "import sqlite3\n",
      "import pandas as pd"
     ],
     "language": "python",
     "metadata": {},
     "outputs": [],
     "prompt_number": 1
    },
    {
     "cell_type": "heading",
     "level": 2,
     "metadata": {},
     "source": [
      "Create a database connection"
     ]
    },
    {
     "cell_type": "code",
     "collapsed": false,
     "input": [
      "!pwd"
     ],
     "language": "python",
     "metadata": {},
     "outputs": [
      {
       "output_type": "stream",
       "stream": "stdout",
       "text": [
        "/home/jerd/GAStudent_DAT_SF_13/DAT_SF_13/labs\r\n"
       ]
      }
     ],
     "prompt_number": 2
    },
    {
     "cell_type": "code",
     "collapsed": false,
     "input": [
      "con = sqlite3.connect(\"source_data/sql_workshop.db\")"
     ],
     "language": "python",
     "metadata": {},
     "outputs": [],
     "prompt_number": 3
    },
    {
     "cell_type": "markdown",
     "metadata": {},
     "source": [
      "- allows database operations\n",
      "- can create a new database by specifing the path to a file\n",
      "- sqlite3.connect(\":memory:\") creates an in-memory database"
     ]
    },
    {
     "cell_type": "heading",
     "level": 4,
     "metadata": {},
     "source": [
      "Which tables to we have? Don't worry about the syntax just yet, we will get to it"
     ]
    },
    {
     "cell_type": "code",
     "collapsed": false,
     "input": [
      "cursor = con.cursor()\n",
      "cursor.execute(\"SELECT name FROM sqlite_master WHERE type='table';\")\n",
      "[x for x in cursor.fetchall()]"
     ],
     "language": "python",
     "metadata": {},
     "outputs": [
      {
       "metadata": {},
       "output_type": "pyout",
       "prompt_number": 6,
       "text": [
        "[(u'Album',),\n",
        " (u'Artist',),\n",
        " (u'Customer',),\n",
        " (u'Employee',),\n",
        " (u'Genre',),\n",
        " (u'Invoice',),\n",
        " (u'InvoiceLine',),\n",
        " (u'MediaType',),\n",
        " (u'Playlist',),\n",
        " (u'PlaylistTrack',),\n",
        " (u'Track',)]"
       ]
      }
     ],
     "prompt_number": 6
    },
    {
     "cell_type": "heading",
     "level": 2,
     "metadata": {},
     "source": [
      "A database row is a tuple"
     ]
    },
    {
     "cell_type": "heading",
     "level": 4,
     "metadata": {},
     "source": [
      "Get information about a table?"
     ]
    },
    {
     "cell_type": "code",
     "collapsed": false,
     "input": [
      "def table_information(table_name, columns_only=False):\n",
      "    \"\"\"\n",
      "    Function returns table information. Will return list of columns if columns_only is set\n",
      "    \"\"\"\n",
      "    cursor = con.cursor()\n",
      "    cursor.execute(\"PRAGMA table_info({})\".format(table_name))\n",
      "    if columns_only == False:\n",
      "        return [x for x in cursor.fetchall()]\n",
      "    else:\n",
      "        column_list = []\n",
      "        return [row[1:2][0] for row in cursor.fetchall()]\n",
      "        \n",
      "table_information('Track', columns_only = False)"
     ],
     "language": "python",
     "metadata": {},
     "outputs": [
      {
       "metadata": {},
       "output_type": "pyout",
       "prompt_number": 10,
       "text": [
        "[(0, u'TrackId', u'INTEGER', 1, None, 1),\n",
        " (1, u'Name', u'NVARCHAR(200)', 1, None, 0),\n",
        " (2, u'AlbumId', u'INTEGER', 0, None, 0),\n",
        " (3, u'MediaTypeId', u'INTEGER', 1, None, 0),\n",
        " (4, u'GenreId', u'INTEGER', 0, None, 0),\n",
        " (5, u'Composer', u'NVARCHAR(220)', 0, None, 0),\n",
        " (6, u'Milliseconds', u'INTEGER', 1, None, 0),\n",
        " (7, u'Bytes', u'INTEGER', 0, None, 0),\n",
        " (8, u'UnitPrice', u'NUMERIC(10,2)', 1, None, 0)]"
       ]
      }
     ],
     "prompt_number": 10
    },
    {
     "cell_type": "heading",
     "level": 1,
     "metadata": {},
     "source": [
      "SQL"
     ]
    },
    {
     "cell_type": "markdown",
     "metadata": {},
     "source": [
      "- Structured Query Language\n",
      "- data-specific programming language\n",
      "- widely-used "
     ]
    },
    {
     "cell_type": "heading",
     "level": 2,
     "metadata": {},
     "source": [
      "SELECT Statement"
     ]
    },
    {
     "cell_type": "markdown",
     "metadata": {},
     "source": [
      "- Simple: SELECT columns FROM table\n",
      "- Limiting results: SELECT columns FROM table LIMIT number OFFSET step\n",
      "- Counting: SELECT COUNT(column) FROM table\n",
      "- Condtional: SELECT columns FROM table WHERE condition\n",
      "- Ordering: SELECT columns FROM table ORDER BY column\n",
      "- Operations: SELECT MIN(Column) FROM TABLE (Also, MAX, AVG, SUM)\n",
      "- Searching: SELECT columns FROM TABLE WHERE column LIKE '%string%'\n",
      "- Subquery - SELECT column FROM TableA WHERE column = (SELECT column FROM TableB)"
     ]
    },
    {
     "cell_type": "code",
     "collapsed": false,
     "input": [
      "def run_sql(query):\n",
      "    \"\"\"\n",
      "    Convience function that returns the results of a query\n",
      "    \"\"\"\n",
      "    cursor = con.cursor()   #Cursor allows traversal or records\n",
      "    cursor.execute(query)\n",
      "    return cursor.fetchall()"
     ],
     "language": "python",
     "metadata": {},
     "outputs": [],
     "prompt_number": 11
    },
    {
     "cell_type": "heading",
     "level": 2,
     "metadata": {},
     "source": [
      "Simple SELECT"
     ]
    },
    {
     "cell_type": "code",
     "collapsed": false,
     "input": [
      "dataset = run_sql(\"SELECT LastName, FirstName, Title FROM Employee\")\n",
      "for last_name, first_name, title in dataset:\n",
      "    print \"{}, {}: {}\".format(last_name, first_name, title)"
     ],
     "language": "python",
     "metadata": {},
     "outputs": [
      {
       "output_type": "stream",
       "stream": "stdout",
       "text": [
        "Adams, Andrew: General Manager\n",
        "Edwards, Nancy: Sales Manager\n",
        "Peacock, Jane: Sales Support Agent\n",
        "Park, Margaret: Sales Support Agent\n",
        "Johnson, Steve: Sales Support Agent\n",
        "Mitchell, Michael: IT Manager\n",
        "King, Robert: IT Staff\n",
        "Callahan, Laura: IT Staff\n"
       ]
      }
     ],
     "prompt_number": 17
    },
    {
     "cell_type": "markdown",
     "metadata": {},
     "source": [
      "- Can perform operations and rename in the statement"
     ]
    },
    {
     "cell_type": "code",
     "collapsed": false,
     "input": [
      "run_sql(\"SELECT Name, Milliseconds / 1000 / 60 AS Minutes FROM Track LIMIT 15\")"
     ],
     "language": "python",
     "metadata": {},
     "outputs": [
      {
       "metadata": {},
       "output_type": "pyout",
       "prompt_number": 18,
       "text": [
        "[(u'For Those About To Rock (We Salute You)', 5),\n",
        " (u'Balls to the Wall', 5),\n",
        " (u'Fast As a Shark', 3),\n",
        " (u'Restless and Wild', 4),\n",
        " (u'Princess of the Dawn', 6),\n",
        " (u'Put The Finger On You', 3),\n",
        " (u\"Let's Get It Up\", 3),\n",
        " (u'Inject The Venom', 3),\n",
        " (u'Snowballed', 3),\n",
        " (u'Evil Walks', 4),\n",
        " (u'C.O.D.', 3),\n",
        " (u'Breaking The Rules', 4),\n",
        " (u'Night Of The Long Knives', 3),\n",
        " (u'Spellbound', 4),\n",
        " (u'Go Down', 5)]"
       ]
      }
     ],
     "prompt_number": 18
    },
    {
     "cell_type": "heading",
     "level": 2,
     "metadata": {},
     "source": [
      "Limiting Results"
     ]
    },
    {
     "cell_type": "markdown",
     "metadata": {},
     "source": [
      "- SELECT * FROM table' allows selection of all columns in the table\n",
      "- Can also use OFFSET in combination to move the cursor forward\n",
      "- DISTINCT will only return one unique tuple per record"
     ]
    },
    {
     "cell_type": "code",
     "collapsed": false,
     "input": [
      "dataset = run_sql(\"\"\"SELECT * FROM Track LIMIT 10\"\"\")\n",
      "for row in dataset:\n",
      "    track_data = {x: y for x, y in zip(table_information('Track', True), row)}\n",
      "    print \"{name}\\ttime:{length:.2f}\".format(name=str(track_data[u'Name']).encode('ascii', 'ignore'), \n",
      "                                                      group=str(track_data[u'Composer']).encode('utf-8', 'ignore'), \n",
      "                                                      length=track_data['Milliseconds']/1000/60.)"
     ],
     "language": "python",
     "metadata": {},
     "outputs": [
      {
       "output_type": "stream",
       "stream": "stdout",
       "text": [
        "For Those About To Rock (We Salute You)\ttime:5.72\n",
        "Balls to the Wall\ttime:5.70\n",
        "Fast As a Shark\ttime:3.83\n",
        "Restless and Wild\ttime:4.20\n",
        "Princess of the Dawn\ttime:6.25\n",
        "Put The Finger On You\ttime:3.42\n",
        "Let's Get It Up\ttime:3.88\n",
        "Inject The Venom\ttime:3.50\n",
        "Snowballed\ttime:3.38\n",
        "Evil Walks\ttime:4.38\n"
       ]
      }
     ],
     "prompt_number": 19
    },
    {
     "cell_type": "code",
     "collapsed": false,
     "input": [
      "dataset = run_sql(\"\"\"SELECT * FROM Track LIMIT 10 OFFSET 100\"\"\")\n",
      "for row in dataset:\n",
      "    track_data = {x: y for x, y in zip(table_information('Track', True), row)}\n",
      "    print \"{name}\\ttime:{length:.2f}\".format(name=str(track_data[u'Name']).encode('ascii', 'ignore'), \n",
      "                                                      group=str(track_data[u'Composer']).encode('utf-8', 'ignore'), \n",
      "                                                      length=track_data['Milliseconds']/1000/60.)"
     ],
     "language": "python",
     "metadata": {},
     "outputs": [
      {
       "output_type": "stream",
       "stream": "stdout",
       "text": [
        "Be Yourself\ttime:4.65\n",
        "Doesn't Remind Me\ttime:4.25\n",
        "Drown Me Slowly\ttime:3.88\n",
        "Heaven's Dead\ttime:4.60\n",
        "The Worm\ttime:3.95\n",
        "Man Or Animal\ttime:3.88\n",
        "Yesterday To Tomorrow\ttime:4.55\n",
        "Dandelion\ttime:4.63\n",
        "#1 Zero\ttime:4.98\n",
        "The Curse\ttime:5.15\n"
       ]
      }
     ],
     "prompt_number": 20
    },
    {
     "cell_type": "code",
     "collapsed": false,
     "input": [
      "print \"There are {} total records in the Track table\".format(len(run_sql(\"SELECT AlbumID FROM Track\")))\n",
      "print \"There are {} albums Album table\".format(len(run_sql(\"SELECT DISTINCT AlbumID FROM Track\")))"
     ],
     "language": "python",
     "metadata": {},
     "outputs": [
      {
       "output_type": "stream",
       "stream": "stdout",
       "text": [
        "There are 3503 total records in the Track table\n",
        "There are 347 albums Album table\n"
       ]
      }
     ],
     "prompt_number": 23
    },
    {
     "cell_type": "heading",
     "level": 2,
     "metadata": {},
     "source": [
      "Counting"
     ]
    },
    {
     "cell_type": "code",
     "collapsed": false,
     "input": [
      "#How many tracks are there in the database?\n",
      "run_sql(\"\"\"SELECT COUNT(*) FROM Track\"\"\")"
     ],
     "language": "python",
     "metadata": {},
     "outputs": [
      {
       "metadata": {},
       "output_type": "pyout",
       "prompt_number": 24,
       "text": [
        "[(3503,)]"
       ]
      }
     ],
     "prompt_number": 24
    },
    {
     "cell_type": "heading",
     "level": 2,
     "metadata": {},
     "source": [
      "Conditional"
     ]
    },
    {
     "cell_type": "code",
     "collapsed": false,
     "input": [
      "#How many tracks are there with that are 4 - 5 minutes long\n",
      "run_sql(\"\"\"SELECT COUNT(*) FROM Track WHERE Milliseconds BETWEEN {} AND {}\"\"\".format(4 * 60 * 1000, \n",
      "                                                                                     5 * 60 * 1000))"
     ],
     "language": "python",
     "metadata": {},
     "outputs": [
      {
       "metadata": {},
       "output_type": "pyout",
       "prompt_number": 25,
       "text": [
        "[(972,)]"
       ]
      }
     ],
     "prompt_number": 25
    },
    {
     "cell_type": "heading",
     "level": 2,
     "metadata": {},
     "source": [
      "Ordering"
     ]
    },
    {
     "cell_type": "code",
     "collapsed": false,
     "input": [
      "#Return the genres in alphabetic order\n",
      "dataset = run_sql(\"\"\"SELECT * FROM Genre ORDER BY Name\"\"\")   # Can reverse the order by using DESC\n",
      "for row in dataset:\n",
      "    track_data = {x: y for x, y in zip(table_information('Track', True), row)}\n",
      "    print track_data['Name']"
     ],
     "language": "python",
     "metadata": {},
     "outputs": [
      {
       "output_type": "stream",
       "stream": "stdout",
       "text": [
        "Alternative\n",
        "Alternative & Punk\n",
        "Blues\n",
        "Bossa Nova\n",
        "Classical\n",
        "Comedy\n",
        "Drama\n",
        "Easy Listening\n",
        "Electronica/Dance\n",
        "Heavy Metal\n",
        "Hip Hop/Rap\n",
        "Jazz\n",
        "Latin\n",
        "Metal\n",
        "Opera\n",
        "Pop\n",
        "R&B/Soul\n",
        "Reggae\n",
        "Rock\n",
        "Rock And Roll\n",
        "Sci Fi & Fantasy\n",
        "Science Fiction\n",
        "Scottish Bagpipe\n",
        "Soundtrack\n",
        "TV Shows\n",
        "World\n"
       ]
      }
     ],
     "prompt_number": 26
    },
    {
     "cell_type": "heading",
     "level": 2,
     "metadata": {},
     "source": [
      "Operations"
     ]
    },
    {
     "cell_type": "code",
     "collapsed": false,
     "input": [
      "run_sql(\"\"\" SELECT MIN(Milliseconds), MAX(Milliseconds), AVG(Milliseconds), SUM(Milliseconds) FROM Track\"\"\")"
     ],
     "language": "python",
     "metadata": {},
     "outputs": [
      {
       "metadata": {},
       "output_type": "pyout",
       "prompt_number": 27,
       "text": [
        "[(1071, 5286953, 393599.2121039109, 1378778040)]"
       ]
      }
     ],
     "prompt_number": 27
    },
    {
     "cell_type": "heading",
     "level": 2,
     "metadata": {},
     "source": [
      "Text Searching"
     ]
    },
    {
     "cell_type": "code",
     "collapsed": false,
     "input": [
      "#Find track names that someone named Steven Tyler composed\n",
      "run_sql(\"\"\"SELECT Name FROM Track WHERE COMPOSER LIKE '%Steven Tyler%'\"\"\")"
     ],
     "language": "python",
     "metadata": {},
     "outputs": [
      {
       "metadata": {},
       "output_type": "pyout",
       "prompt_number": 28,
       "text": [
        "[(u'Walk On Water',),\n",
        " (u'Love In An Elevator',),\n",
        " (u'Rag Doll',),\n",
        " (u'What It Takes',),\n",
        " (u'Dude (Looks Like A Lady)',),\n",
        " (u\"Janie's Got A Gun\",),\n",
        " (u\"Cryin'\",),\n",
        " (u'Amazing',),\n",
        " (u'Blind Man',),\n",
        " (u'Deuces Are Wild',),\n",
        " (u'The Other Side',),\n",
        " (u'Crazy',),\n",
        " (u'Eat The Rich',),\n",
        " (u'Angel',),\n",
        " (u\"Livin' On The Edge\",)]"
       ]
      }
     ],
     "prompt_number": 28
    },
    {
     "cell_type": "heading",
     "level": 2,
     "metadata": {},
     "source": [
      "Subquery"
     ]
    },
    {
     "cell_type": "code",
     "collapsed": false,
     "input": [
      "table_information('Genre')"
     ],
     "language": "python",
     "metadata": {},
     "outputs": [
      {
       "metadata": {},
       "output_type": "pyout",
       "prompt_number": 29,
       "text": [
        "[(0, u'GenreId', u'INTEGER', 1, None, 1),\n",
        " (1, u'Name', u'NVARCHAR(120)', 0, None, 0)]"
       ]
      }
     ],
     "prompt_number": 29
    },
    {
     "cell_type": "code",
     "collapsed": false,
     "input": [
      "#Select all hip hop tracks\n",
      "run_sql(\"\"\"SELECT Track.Name FROM Track WHERE Track.GenreID = \\\n",
      "            (SELECT Genre.GenreId FROM Genre WHERE Genre.Name = 'Hip Hop/Rap')\"\"\")"
     ],
     "language": "python",
     "metadata": {},
     "outputs": [
      {
       "metadata": {},
       "output_type": "pyout",
       "prompt_number": 30,
       "text": [
        "[(u'ZeroVinteUm',),\n",
        " (u'Queimando Tudo',),\n",
        " (u'Hip Hop Rio',),\n",
        " (u'Bossa',),\n",
        " (u'100% HardCore',),\n",
        " (u'Biruta',),\n",
        " (u'M\\xe3o Na Cabe\\xe7a',),\n",
        " (u'O Bicho T\\xe1 Pregando',),\n",
        " (u'Adoled (Ocean)',),\n",
        " (u'Seus Amigos',),\n",
        " (u'Paga Pau',),\n",
        " (u'Rappers Reais',),\n",
        " (u'Nega Do Cabelo Duro',),\n",
        " (u'Hemp Family',),\n",
        " (u'Quem Me Cobrou?',),\n",
        " (u'Se Liga',),\n",
        " (u'Jump Around',),\n",
        " (u'Salutations',),\n",
        " (u'Put Your Head Out',),\n",
        " (u\"Top O' The Morning To Ya\",),\n",
        " (u'Commercial 1',),\n",
        " (u'House And The Rising Sun',),\n",
        " (u'Shamrocks And Shenanigans',),\n",
        " (u'House Of Pain Anthem',),\n",
        " (u'Danny Boy, Danny Boy',),\n",
        " (u\"Guess Who's Back\",),\n",
        " (u'Commercial 2',),\n",
        " (u'Put On Your Shit Kickers',),\n",
        " (u'Come And Get Some Of This',),\n",
        " (u'Life Goes On',),\n",
        " (u'One For The Road',),\n",
        " (u'Feel It',),\n",
        " (u'All My Love',),\n",
        " (u'Jump Around (Pete Rock Remix)',),\n",
        " (u'Shamrocks And Shenanigans (Boom Shalock Lock Boom/Butch Vig Mix)',)]"
       ]
      }
     ],
     "prompt_number": 30
    },
    {
     "cell_type": "heading",
     "level": 1,
     "metadata": {},
     "source": [
      "Practice"
     ]
    },
    {
     "cell_type": "code",
     "collapsed": false,
     "input": [
      "table_information('Invoice')"
     ],
     "language": "python",
     "metadata": {},
     "outputs": [
      {
       "metadata": {},
       "output_type": "pyout",
       "prompt_number": 31,
       "text": [
        "[(0, u'InvoiceId', u'INTEGER', 1, None, 1),\n",
        " (1, u'CustomerId', u'INTEGER', 1, None, 0),\n",
        " (2, u'InvoiceDate', u'DATETIME', 1, None, 0),\n",
        " (3, u'BillingAddress', u'NVARCHAR(70)', 0, None, 0),\n",
        " (4, u'BillingCity', u'NVARCHAR(40)', 0, None, 0),\n",
        " (5, u'BillingState', u'NVARCHAR(40)', 0, None, 0),\n",
        " (6, u'BillingCountry', u'NVARCHAR(40)', 0, None, 0),\n",
        " (7, u'BillingPostalCode', u'NVARCHAR(10)', 0, None, 0),\n",
        " (8, u'Total', u'NUMERIC(10,2)', 1, None, 0)]"
       ]
      }
     ],
     "prompt_number": 31
    },
    {
     "cell_type": "code",
     "collapsed": false,
     "input": [
      "#How many total invoices are there\n",
      "run_sql( \"SELECT COUNT(InvoiceId) FROM Invoice\")"
     ],
     "language": "python",
     "metadata": {},
     "outputs": [
      {
       "metadata": {},
       "output_type": "pyout",
       "prompt_number": 33,
       "text": [
        "[(412,)]"
       ]
      }
     ],
     "prompt_number": 33
    },
    {
     "cell_type": "code",
     "collapsed": false,
     "input": [
      "#What are the 10 highest totals (hint: use DESC after the ORDER BY CLAUSE)\n",
      "run_sql( \"SELECT Total FROM Invoice ORDER BY Total LIMIT 10\")\n"
     ],
     "language": "python",
     "metadata": {},
     "outputs": [
      {
       "metadata": {},
       "output_type": "pyout",
       "prompt_number": 34,
       "text": [
        "[(0.99,),\n",
        " (0.99,),\n",
        " (0.99,),\n",
        " (0.99,),\n",
        " (0.99,),\n",
        " (0.99,),\n",
        " (0.99,),\n",
        " (0.99,),\n",
        " (0.99,),\n",
        " (0.99,)]"
       ]
      }
     ],
     "prompt_number": 34
    },
    {
     "cell_type": "code",
     "collapsed": false,
     "input": [
      "#What is the average amount people owe from boston?\n",
      "run_sql(\"SELECT AVG(Total) FROM Invoice WHERE BillingCity LIKE '%on'\")\n",
      "run_sql(\"SELECT AVG(Total) FROM Invoice WHERE BillingCity IN ('London','Boston')\")"
     ],
     "language": "python",
     "metadata": {},
     "outputs": [
      {
       "metadata": {},
       "output_type": "pyout",
       "prompt_number": 45,
       "text": [
        "[(5.374285714285713,)]"
       ]
      }
     ],
     "prompt_number": 45
    },
    {
     "cell_type": "heading",
     "level": 2,
     "metadata": {},
     "source": [
      "Joins"
     ]
    },
    {
     "cell_type": "markdown",
     "metadata": {},
     "source": [
      "- Links tables together \n",
      "- databases are designed to store as little redundant information as possible - normalization\n",
      "- Inner join vs. Outer join"
     ]
    },
    {
     "cell_type": "markdown",
     "metadata": {},
     "source": [
      "# Basic Format\n",
      "- SELECT FROM TableA INNER JOIN TableB ON TableA.Column == TableB.Column"
     ]
    },
    {
     "cell_type": "code",
     "collapsed": false,
     "input": [
      "table_information('Track')"
     ],
     "language": "python",
     "metadata": {},
     "outputs": [
      {
       "metadata": {},
       "output_type": "pyout",
       "prompt_number": 46,
       "text": [
        "[(0, u'TrackId', u'INTEGER', 1, None, 1),\n",
        " (1, u'Name', u'NVARCHAR(200)', 1, None, 0),\n",
        " (2, u'AlbumId', u'INTEGER', 0, None, 0),\n",
        " (3, u'MediaTypeId', u'INTEGER', 1, None, 0),\n",
        " (4, u'GenreId', u'INTEGER', 0, None, 0),\n",
        " (5, u'Composer', u'NVARCHAR(220)', 0, None, 0),\n",
        " (6, u'Milliseconds', u'INTEGER', 1, None, 0),\n",
        " (7, u'Bytes', u'INTEGER', 0, None, 0),\n",
        " (8, u'UnitPrice', u'NUMERIC(10,2)', 1, None, 0)]"
       ]
      }
     ],
     "prompt_number": 46
    },
    {
     "cell_type": "code",
     "collapsed": false,
     "input": [
      "table_information('Genre')"
     ],
     "language": "python",
     "metadata": {},
     "outputs": [
      {
       "metadata": {},
       "output_type": "pyout",
       "prompt_number": 47,
       "text": [
        "[(0, u'GenreId', u'INTEGER', 1, None, 1),\n",
        " (1, u'Name', u'NVARCHAR(120)', 0, None, 0)]"
       ]
      }
     ],
     "prompt_number": 47
    },
    {
     "cell_type": "code",
     "collapsed": false,
     "input": [
      "#Select tracks and genre\n",
      "run_sql(\"SELECT Track.Name, Genre.Name FROM Track INNER JOIN Genre ON Track.GenreID == Genre.GenreID LIMIT 10\")"
     ],
     "language": "python",
     "metadata": {},
     "outputs": [
      {
       "metadata": {},
       "output_type": "pyout",
       "prompt_number": 48,
       "text": [
        "[(u'For Those About To Rock (We Salute You)', u'Rock'),\n",
        " (u'Balls to the Wall', u'Rock'),\n",
        " (u'Fast As a Shark', u'Rock'),\n",
        " (u'Restless and Wild', u'Rock'),\n",
        " (u'Princess of the Dawn', u'Rock'),\n",
        " (u'Put The Finger On You', u'Rock'),\n",
        " (u\"Let's Get It Up\", u'Rock'),\n",
        " (u'Inject The Venom', u'Rock'),\n",
        " (u'Snowballed', u'Rock'),\n",
        " (u'Evil Walks', u'Rock')]"
       ]
      }
     ],
     "prompt_number": 48
    },
    {
     "cell_type": "heading",
     "level": 1,
     "metadata": {},
     "source": [
      "Practice"
     ]
    },
    {
     "cell_type": "code",
     "collapsed": false,
     "input": [
      "#Get tracks and running time (Milliseconds) for the album 'Appetite for Destruction'"
     ],
     "language": "python",
     "metadata": {},
     "outputs": []
    },
    {
     "cell_type": "heading",
     "level": 2,
     "metadata": {},
     "source": [
      "Group by"
     ]
    },
    {
     "cell_type": "markdown",
     "metadata": {},
     "source": [
      "- GROUP BY allows aggregate operations on groups of data\n",
      "- Can use HAVING to conditionally select groups\n",
      "- SELECT SUM(Column) FROM Table GROUP BY Column HACING Condition"
     ]
    },
    {
     "cell_type": "code",
     "collapsed": false,
     "input": [
      "#Average play time for tracks - order by longest\n",
      "run_sql(\"\"\"SELECT Album.Title, AVG(Track.Milliseconds) / 1000 / 60 AS Time FROM Track \n",
      "            INNER JOIN Album ON Album.AlbumId = Track.AlbumId\n",
      "            GROUP BY Track.AlbumID\n",
      "            ORDER BY Time Desc\"\"\")"
     ],
     "language": "python",
     "metadata": {},
     "outputs": [
      {
       "metadata": {},
       "output_type": "pyout",
       "prompt_number": 50,
       "text": [
        "[(u'Battlestar Galactica (Classic), Season 1', 48.759572222222225),\n",
        " (u'Battlestar Galactica, Season 3', 46.304421929824564),\n",
        " (u'Lost, Season 3', 45.29845),\n",
        " (u'Lost, Season 2', 43.95113263888889),\n",
        " (u'Battlestar Galactica: The Story So Far', 43.704166666666666),\n",
        " (u'Heroes, Season 1', 43.319034782608696),\n",
        " (u'Lost, Season 1', 43.236624),\n",
        " (u'Aquaman', 41.40945),\n",
        " (u'LOST, Season 4', 38.69454215686275),\n",
        " (u'The Office, Season 3', 25.54473),\n",
        " (u'The Office, Season 1', 22.153233333333333),\n",
        " (u'The Office, Season 2', 21.694095454545455),\n",
        " (u'The Final Concerts (Disc 2)', 15.5349),\n",
        " (u'The Song Remains The Same (Disc 2)', 12.655995833333332),\n",
        " (u'Santana Live', 11.23206388888889),\n",
        " (u\"Great Performances - Barber's Adagio and Other Romantic Favorites for Strings\",\n",
        "  9.941983333333333),\n",
        " (u'The Song Remains The Same (Disc 1)', 9.813236666666665),\n",
        " (u'Handel: The Messiah (Highlights)', 9.700483333333333),\n",
        " (u'[1997] Black Light Syndrome', 9.596509523809525),\n",
        " (u'G\\xf3recki: Symphony No. 3', 9.458233333333334),\n",
        " (u'Berlioz: Symphonie Fantastique', 9.366116666666667),\n",
        " (u'Chopin: Piano Concertos Nos. 1 & 2', 9.339033333333333),\n",
        " (u'Scheherazade', 9.086716666666666),\n",
        " (u'Santana - As Years Go By', 8.966414583333334),\n",
        " (u'Strauss: Waltzes', 8.778266666666667),\n",
        " (u'Holst: The Planets, Op. 32 & Vaughan Williams: Fantasies', 8.70165),\n",
        " (u'Allegri: Miserere', 8.358383333333332),\n",
        " (u'MK III The Final Concerts [Disc 1]', 8.296730952380953),\n",
        " (u'Locatelli: Concertos for Violin, Strings and Continuo, Vol. 3',\n",
        "  8.226216666666666),\n",
        " (u'Elgar: Cello Concerto & Vaughan Williams: Fantasias', 8.052216666666666),\n",
        " (u'BBC Sessions [Disc 2] [Live]', 7.831846666666666),\n",
        " (u'The Essential Miles Davis [Disc 2]', 7.331346666666666),\n",
        " (u'...And Justice For All', 7.275912962962963),\n",
        " (u'A Matter of Life and Death', 7.204907575757575),\n",
        " (u\"Tchaikovsky: 1812 Festival Overture, Op.49, Capriccio Italien & Beethoven: Wellington's Victory\",\n",
        "  6.866666666666666),\n",
        " (u'Master Of Puppets', 6.846197916666667),\n",
        " (u'St. Anger', 6.828874242424242),\n",
        " (u'Sibelius: Finlandia', 6.766666666666667),\n",
        " (u'Brave New World', 6.7031),\n",
        " (u'Virtual XI', 6.655447916666666),\n",
        " (u'Rock In Rio [CD2]', 6.638431481481481),\n",
        " (u'Mozart: Wind Concertos', 6.574700000000001),\n",
        " (u'Beethoven: Symhonies Nos. 5 & 6', 6.541033333333333),\n",
        " (u'Beethoven Piano Sonatas: Moonlight & Pastorale', 6.516666666666667),\n",
        " (u'Physical Graffiti [Disc 1]', 6.513480555555556),\n",
        " (u'The X Factor', 6.466365151515152),\n",
        " (u\"Mendelssohn: A Midsummer Night's Dream\", 6.463766666666667),\n",
        " (u'Somewhere in Time', 6.425789583333333),\n",
        " (u'The Ultimate Relexation Album', 6.4251),\n",
        " (u'Outbreak', 6.371888888888889),\n",
        " (u'Presence', 6.353840476190476),\n",
        " (u'Powerslave', 6.3256499999999996),\n",
        " (u'Weill: The Seven Deadly Sins', 6.275166666666666),\n",
        " (u'Dance Of Death', 6.187210606060606),\n",
        " (u'In Through The Out Door', 6.08447142857143),\n",
        " (u'Purcell: The Fairy Queen', 6.0716),\n",
        " (u'Mozart: Symphonies Nos. 40 & 41', 6.048883333333333),\n",
        " (u'Deep Purple In Rock', 6.037514285714286),\n",
        " (u'Live At Donington 1992 (Disc 2)', 6.035628333333333),\n",
        " (u'The Return Of The Space Cowboy', 6.0114),\n",
        " (u'Garage Inc. (Disc 1)', 5.979301515151515),\n",
        " (u'The Best of Beethoven', 5.940433333333333),\n",
        " (u'Ride The Lightning', 5.938933333333334),\n",
        " (u'The Essential Miles Davis [Disc 1]', 5.894320512820513),\n",
        " (u\"Knocking at Your Back Door: The Best Of Deep Purple in the 80's\",\n",
        "  5.872834848484848),\n",
        " (u'Speak of the Devil', 5.854590277777778),\n",
        " (u'ReLoad', 5.854235897435898),\n",
        " (u'Sir Neville Marriner: A Celebration', 5.816183333333333),\n",
        " (u'No More Tears (Remastered)', 5.799533333333333),\n",
        " (u'Realize', 5.776725),\n",
        " (u'Supernatural', 5.7699371794871785),\n",
        " (u'Balls to the Wall', 5.709366666666667),\n",
        " (u'Blue Moods', 5.668362820512821),\n",
        " (u\"Beethoven: Symphony No. 6 'Pastoral' Etc.\", 5.6594500000000005),\n",
        " (u'Rock In Rio [CD1]', 5.644313333333333),\n",
        " (u'Load', 5.641196428571429),\n",
        " (u'A Soprano Inspired', 5.637383333333333),\n",
        " (u'Fireball', 5.618492857142857),\n",
        " (u'Chemical Wedding', 5.59700303030303),\n",
        " (u'The Best Of Billy Cobham', 5.5844249999999995),\n",
        " (u'Plays Metallica By Four Cellos', 5.5654312500000005),\n",
        " (u'Szymanowski: Piano Works, Vol. 1', 5.56115),\n",
        " (u'Emergency On Planet Earth', 5.545351666666666),\n",
        " (u'Temple of the Dog', 5.528175),\n",
        " (u'Seventh Son of a Seventh Son', 5.50371875),\n",
        " (u'Live [Disc 1]', 5.499508333333334),\n",
        " (u'Live [Disc 2]', 5.493301851851852),\n",
        " (u'Black Sabbath', 5.463811904761905),\n",
        " (u'Van Halen III', 5.449169444444445),\n",
        " (u'Jorge Ben Jor 25 Anos', 5.441982142857143),\n",
        " (u'Use Your Illusion II', 5.425251190476191),\n",
        " (u'Retrospective I (1974-1980)', 5.415111904761904),\n",
        " (u'Live After Death', 5.396162962962962),\n",
        " (u'Machine Head', 5.377607142857143),\n",
        " (u'A Real Live One', 5.36059696969697),\n",
        " (u'BBC Sessions [Disc 1] [Live]', 5.345142857142857),\n",
        " (u'Sozinho Remix Ao Vivo', 5.331727777777778),\n",
        " (u'IV', 5.328045833333333),\n",
        " (u'Sambas De Enredo 2001', 5.2240166666666665),\n",
        " (u'Black Album', 5.221144444444445),\n",
        " (u'Slaves And Masters', 5.212968518518519),\n",
        " (u'Purpendicular', 5.20725),\n",
        " (u'Tribute', 5.205758333333334),\n",
        " (u'Alcohol Fueled Brewtality Live! [Disc 1]', 5.2050243589743594),\n",
        " (u'Un-Led-Ed', 5.179566666666667),\n",
        " (u'Live At Donington 1992 (Disc 1)', 5.176023333333334),\n",
        " (u\"Kill 'Em All\", 5.134753333333333),\n",
        " (u'Bach: The Brandenburg Concertos', 5.120733333333334),\n",
        " (u'Houses Of The Holy', 5.11340625),\n",
        " (u'Haydn: Symphonies 99 - 104', 5.1114500000000005),\n",
        " (u'Let There Be Rock', 5.11095625),\n",
        " (u'Piece Of Mind', 5.097933333333333),\n",
        " (u'Quanta Gente Veio ver--B\\xf4nus De Carnaval', 5.088355555555555),\n",
        " (u'Blizzard of Ozz', 5.0745000000000005),\n",
        " (u'Tchaikovsky: The Nutcracker', 5.070433333333333),\n",
        " (u'Walking Into Clarksdale', 5.0681111111111115),\n",
        " (u'The Real Thing', 5.039012121212122),\n",
        " (u'Zooropa', 5.038751666666666),\n",
        " (u'The Battle Rages On', 5.030215),\n",
        " (u'The Number of The Beast', 5.02878125),\n",
        " (u'Into The Light', 5.025370833333333),\n",
        " (u'Pop', 5.017461111111112),\n",
        " (u'One By One', 5.0054878787878785),\n",
        " (u'Bartok: Violin & Viola Concertos', 4.989166666666667),\n",
        " (u'Led Zeppelin I', 4.982220370370371),\n",
        " (u'A Real Dead One', 4.982197222222222),\n",
        " (u'Big Ones', 4.90189888888889),\n",
        " (u'Muso Ko', 4.887016666666667),\n",
        " (u'Fear Of The Dark', 4.886013888888888),\n",
        " (u'Heart of the Night', 4.857751388888889),\n",
        " (u'Ten', 4.857380303030302),\n",
        " (u'Physical Graffiti [Disc 2]', 4.8510277777777775),\n",
        " (u'No Security', 4.847820238095237),\n",
        " (u'Diary of a Madman (Remastered)', 4.8475166666666665),\n",
        " (u'Alcohol Fueled Brewtality Live! [Disc 2]', 4.82585),\n",
        " (u'South American Getaway', 4.823133333333333),\n",
        " (u'Synkronized', 4.819187878787878),\n",
        " (u'20th Century Masters - The Millennium Collection: The Best of Scorpions',\n",
        "  4.789502777777779),\n",
        " (u'Nielsen: The Six Symphonies', 4.7833),\n",
        " (u'Respighi:Pines of Rome', 4.779016666666666),\n",
        " (u'Restless and Wild', 4.767155555555556),\n",
        " (u'Dark Side Of The Moon', 4.764144444444445),\n",
        " (u'J.S. Bach: Chaconne, Suite in E Minor, Partita in E Major & Prelude, Fugue and Allegro',\n",
        "  4.761216666666667),\n",
        " (u'Use Your Illusion I', 4.7576375),\n",
        " (u'Djavan Ao Vivo - Vol. 1', 4.6900076923076925),\n",
        " (u'The Best Of 1980-1990', 4.685614285714285),\n",
        " (u'New Adventures In Hi-Fi', 4.6822857142857135),\n",
        " (u'Audioslave', 4.67584880952381),\n",
        " (u'Carnaval 2001', 4.67382738095238),\n",
        " (u'A-Sides', 4.658851960784314),\n",
        " (u'Djavan Ao Vivo - Vol. 02', 4.649687179487179),\n",
        " (u'Led Zeppelin II', 4.627535185185185),\n",
        " (u'Puccini: Madama Butterfly - Highlights', 4.627316666666667),\n",
        " (u'Achtung Baby', 4.622901388888889),\n",
        " (u'Quiet Songs', 4.615733333333334),\n",
        " (u'Frank', 4.599707575757575),\n",
        " (u'Morning Dance', 4.586416666666667),\n",
        " (u\"Vault: Def Leppard's Greatest Hits\", 4.584455208333334),\n",
        " (u'Prokofiev: Romeo & Juliet', 4.583583333333333),\n",
        " (u'Great Opera Choruses', 4.575066666666667),\n",
        " (u'Bongo Fury', 4.566535185185185),\n",
        " (u'Iron Maiden', 4.531366666666667),\n",
        " (u'Pachelbel: Canon & Gigue', 4.5298),\n",
        " (u'Facelift', 4.513006944444444),\n",
        " (u'Unplugged', 4.507375555555555),\n",
        " (u'Transmission', 4.505365151515152),\n",
        " (u\"All That You Can't Leave Behind\", 4.491824242424242),\n",
        " (u'Appetite for Destruction', 4.487480555555555),\n",
        " (u'Tangents', 4.481151111111111),\n",
        " (u'Out Of Exile', 4.478106944444445),\n",
        " (u'Core', 4.470484722222222),\n",
        " (u'A TempestadeTempestade Ou O Livro Dos Dias', 4.469454444444444),\n",
        " (u'Greatest Hits II', 4.469157843137255),\n",
        " (u'How To Dismantle An Atomic Bomb', 4.468713636363636),\n",
        " (u'Live On Two Legs [Live]', 4.45724375),\n",
        " (u'Worlds', 4.448933333333333),\n",
        " (u'Maquinarama', 4.435584722222222),\n",
        " (u'Garage Inc. (Disc 2)', 4.429055208333334),\n",
        " (u\"Great Recordings of the Century: Paganini's 24 Caprices\",\n",
        "  4.425683333333334),\n",
        " (u'Jagged Little Pill', 4.424262820512821),\n",
        " (u'No Prayer For The Dying', 4.420955),\n",
        " (u'Angel Dust', 4.416332142857143),\n",
        " (u'American Idiot', 4.4075512820512825),\n",
        " (u'Greatest Hits', 4.4051845029239765),\n",
        " (u'Judas 0: B-Sides and Rarities', 4.3870125),\n",
        " (u'Contraband', 4.380860256410257),\n",
        " (u'Great Recordings of the Century - Shubert: Schwanengesang, 4 Lieder',\n",
        "  4.3641499999999995),\n",
        " (u'Quanta Gente Veio Ver (Live)', 4.35234),\n",
        " (u'Blood Sugar Sex Magik', 4.350071568627451),\n",
        " (u'Motley Crue Greatest Hits', 4.348200980392156),\n",
        " (u'Radio Brasil (O Som da Jovem Vanguarda) - Seleccao de Henrique Amaro',\n",
        "  4.342002941176471),\n",
        " (u'Roda De Funk', 4.3394208333333335),\n",
        " (u'The Best Of Men At Work', 4.337973333333333),\n",
        " (u'Black Sabbath Vol. 4 (Remaster)', 4.336535),\n",
        " (u'In Your Honor [Disc 2]', 4.327263333333333),\n",
        " (u'Mais Do Mesmo', 4.317028124999999),\n",
        " (u'Faur\\xe9: Requiem, Ravel: Pavane & Others', 4.3153999999999995),\n",
        " (u'Pure Cult: The Best Of The Cult (For Rockers, Ravers, Lovers & Sinners) [UK]',\n",
        "  4.308092592592592),\n",
        " (u'By The Way', 4.3020322916666665),\n",
        " (u'Led Zeppelin III', 4.300314999999999),\n",
        " (u'Bark at the Moon (Remastered)', 4.287533333333333),\n",
        " (u'Na Pista', 4.2662233333333335),\n",
        " (u'The Best Of Van Halen, Vol. I', 4.2646862745098035),\n",
        " (u'Rattle And Hum', 4.26286862745098),\n",
        " (u'The Police Greatest Hits', 4.260595238095238),\n",
        " (u'Beyond Good And Evil', 4.254031944444445),\n",
        " (u'Adams, John: The Chairman Dances', 4.248833333333334),\n",
        " (u'The Beast Live', 4.246025),\n",
        " (u'Prokofiev: Symphony No.1', 4.23335),\n",
        " (u'Grieg: Peer Gynt Suites & Sibelius: Pell\\xe9as et M\\xe9lisande', 4.2237),\n",
        " (u'Armada: Music from the Courts of England and Spain', 4.22135),\n",
        " (u'War', 4.216505),\n",
        " (u'UB40 The Best Of - Volume Two [UK]', 4.194602380952381),\n",
        " (u'Jota Quest-1995', 4.1893819444444444),\n",
        " (u'Revelations', 4.170997619047619),\n",
        " (u'The Last Night of the Proms', 4.167183333333333),\n",
        " (u'Original Soundtracks 1', 4.154395238095238),\n",
        " (u'Voodoo Lounge', 4.145537777777778),\n",
        " (u'Come Taste The Band', 4.1425777777777775),\n",
        " (u'Chill: Brazil (Disc 2)', 4.138685294117647),\n",
        " (u'Living After Midnight', 4.138657291666666),\n",
        " (u'Misplaced Childhood', 4.12895),\n",
        " (u'Coda', 4.127339583333334),\n",
        " (u'Rotten Apples: Greatest Hits', 4.121025),\n",
        " (u'In Step', 4.114451666666667),\n",
        " (u'Cidade Negra - Hits', 4.089336904761905),\n",
        " (u'Adorate Deum: Gregorian Chant from the Proper of the Mass',\n",
        "  4.088616666666667),\n",
        " (u'O Samba Pocon\\xe9', 4.082377272727273),\n",
        " (u'Stormbringer', 4.068661111111111),\n",
        " (u'The Best of Ed Motta', 4.059171428571428),\n",
        " (u'Mascagni: Cavalleria Rusticana', 4.057266666666667),\n",
        " (u'The Cream Of Clapton', 4.049261111111111),\n",
        " (u'The Doors', 4.045051515151515),\n",
        " (u'In Your Honor [Disc 1]', 4.015491666666667),\n",
        " (u'Out Of Time', 4.015328787878788),\n",
        " (u'Palestrina: Missa Papae Marcelli & Allegri: Miserere', 4.0111),\n",
        " (u'For Those About To Rock We Salute You', 4.0006916666666665),\n",
        " (u'The Best Of Buddy Guy - The Millenium Collection', 3.9952257575757577),\n",
        " (u'B-Sides 1980-1990', 3.9943166666666667),\n",
        " (u'Compositores', 3.9940566666666664),\n",
        " (u'Minha Hist\\xf3ria', 3.9904130952380954),\n",
        " (u'King For A Day Fool For A Lifetime', 3.9886566666666665),\n",
        " (u'Minas', 3.978005128205128),\n",
        " (u'Faceless', 3.9529694444444443),\n",
        " (u'Lulu Santos - RCA 100 Anos De M\\xfasica - \\xc1lbum 02',\n",
        "  3.9457857142857145),\n",
        " (u'Carry On', 3.9195226190476187),\n",
        " (u'Prokofiev: Symphony No.5 & Stravinksy: Le Sacre Du Printemps',\n",
        "  3.9124333333333334),\n",
        " (u'Cake: B-Sides and Rarities', 3.9002166666666667),\n",
        " (u'The World of Classical Favourites', 3.876675),\n",
        " (u'Killers', 3.8728183333333335),\n",
        " (u'C\\xe1ssia Eller - Sem Limite [Disc 1]', 3.870963333333333),\n",
        " (u'Da Lama Ao Caos', 3.8675217948717946),\n",
        " (u'Ac\\xfastico MTV [Live]', 3.8639882352941175),\n",
        " (u'Minha Historia', 3.8606093137254898),\n",
        " (u'Vs.', 3.8578805555555555),\n",
        " (u'Pearl Jam', 3.825457692307692),\n",
        " (u'My Generation - The Very Best Of The Who', 3.8167200000000006),\n",
        " (u'Greatest Kiss', 3.812520833333333),\n",
        " (u'Unplugged [Live]', 3.783742222222222),\n",
        " (u'C\\xe1ssia Eller - Cole\\xe7\\xe3o Sem Limite [Disc 2]', 3.77248),\n",
        " (u'Arquivo Os Paralamas Do Sucesso', 3.7662229166666665),\n",
        " (u'Surfing with the Alien (Remastered)', 3.7662066666666667),\n",
        " (u'Bach: Orchestral Suites Nos. 1 - 4', 3.7655499999999997),\n",
        " (u'Californication', 3.761623333333333),\n",
        " (u'Lulu Santos - RCA 100 Anos De M\\xfasica - \\xc1lbum 01',\n",
        "  3.7546261904761904),\n",
        " (u'Chronicle, Vol. 2', 3.749848333333333),\n",
        " (u'Get Born', 3.7433717948717944),\n",
        " (u'Miles Ahead', 3.731241666666667),\n",
        " (u'Green', 3.730318181818182),\n",
        " (u'Great Recordings of the Century - Mahler: Das Lied von der Erde',\n",
        "  3.726383333333333),\n",
        " (u'Instant Karma: The Amnesty International Campaign to Save Darfur',\n",
        "  3.720931884057971),\n",
        " (u'The Best Of R.E.M.: The IRS Years', 3.7191739583333336),\n",
        " (u'Mozart: Chamber Music', 3.68885),\n",
        " (u'Elis Regina-Minha Hist\\xf3ria', 3.685619047619048),\n",
        " (u'Demorou...', 3.674586111111111),\n",
        " (u'Vin\\xedcius De Moraes - Sem Limite', 3.6598333333333333),\n",
        " (u'Cafezinho', 3.649670238095238),\n",
        " (u'Chill: Brazil (Disc 1)', 3.62873137254902),\n",
        " (u'Riot Act', 3.618297777777778),\n",
        " (u'Vinicius De Moraes', 3.616356666666667),\n",
        " (u'The Colour And The Shape', 3.6093461538461535),\n",
        " (u'Milton Nascimento Ao Vivo', 3.609311538461539),\n",
        " (u'Olodum', 3.5950333333333333),\n",
        " (u'Album Of The Year', 3.5925555555555557),\n",
        " (u'Ac\\xfastico MTV', 3.5903142857142853),\n",
        " (u'Carried to Dust (Bonus Track Version)', 3.5897666666666668),\n",
        " (u'The Singles', 3.578406481481481),\n",
        " (u'News Of The World', 3.5779363636363635),\n",
        " (u'Ao Vivo [IMPORT]', 3.5659122807017543),\n",
        " (u'Volume Dois', 3.5627968749999996),\n",
        " (u'Nevermind', 3.551480555555556),\n",
        " (u'Are You Experienced?', 3.5471137254901963),\n",
        " (u'Prenda Minha', 3.5364648148148143),\n",
        " (u'Back to Black', 3.533402777777778),\n",
        " (u\"Up An' Atom\", 3.5128871212121213),\n",
        " (u'Sex Machine', 3.5093683333333336),\n",
        " (u'Meus Momentos', 3.4945857142857144),\n",
        " (u'Arquivo II', 3.4830944444444443),\n",
        " (u'Warner 25 Anos', 3.4606261904761904),\n",
        " (u'Greatest Hits I', 3.439727450980392),\n",
        " (u'As Can\\xe7\\xf5es de Eu Tu Eles', 3.4359952380952383),\n",
        " (u'Koyaanisqatsi (Soundtrack from the Motion Picture)', 3.4334166666666666),\n",
        " (u'Every Kind of Light', 3.4330583333333333),\n",
        " (u'Chronicle, Vol. 1', 3.405575833333333),\n",
        " (u'Vozes do MPB', 3.403188095238095),\n",
        " (u'Deixa Entrar', 3.3838761904761907),\n",
        " (u'Raul Seixas', 3.372989285714285),\n",
        " (u'Ax\\xe9 Bahia 2001', 3.3606476190476187),\n",
        " (u'Vivaldi: The Four Seasons', 3.3181000000000003),\n",
        " (u'A Copland Celebration, Vol. I', 3.3010666666666664),\n",
        " (u'Mezmerize', 3.291893939393939),\n",
        " (u'Ac\\xfastico', 3.266843181818182),\n",
        " (u'Van Halen', 3.232443939393939),\n",
        " (u'Seek And Shall Find: More Of The Best (1963-1981)', 3.2297425925925927),\n",
        " (u'Bach: Violin Concertos', 3.2287000000000003),\n",
        " (u'Serie Sem Limite (Disc 2)', 3.2165366666666673),\n",
        " (u'Hot Rocks, 1964-1971 (Disc 1)', 3.2101152777777773),\n",
        " (u'From The Muddy Banks Of The Wishkah [Live]', 3.1797852941176474),\n",
        " (u'Barulhinho Bom', 3.1794564814814814),\n",
        " (u'My Way: The Best Of Frank Sinatra [Disc 1]', 3.1527368055555556),\n",
        " (u'Wagner: Favourite Overtures', 3.1501333333333337),\n",
        " (u'Body Count', 3.129793137254902),\n",
        " (u'Os C\\xe3es Ladram Mas A Caravana N\\xe3o P\\xe1ra', 3.0907395833333333),\n",
        " (u'Afrociberdelia', 3.071576811594203),\n",
        " (u'Ace Of Spades', 3.0394255555555554),\n",
        " (u\"Pavarotti's Opera Made Easy\", 2.948516666666667),\n",
        " (u'Mozart Gala: Famous Arias', 2.91355),\n",
        " (u'Serie Sem Limite (Disc 1)', 2.911484444444445),\n",
        " (u'Cesta B\\xe1sica', 2.89745),\n",
        " (u'International Superhits', 2.893261111111111),\n",
        " (u'Duos II', 2.8785000000000003),\n",
        " (u'House of Pain', 2.86759649122807),\n",
        " (u'Diver Down', 2.625588888888889),\n",
        " (u'Carmina Burana', 2.6118333333333337),\n",
        " (u'Bach: Toccata & Fugue in D Minor', 2.5650166666666667),\n",
        " (u'Bach: The Cello Suites', 2.3881333333333337),\n",
        " (u'Purcell: Music for the Queen Mary', 2.3680166666666667),\n",
        " (u\"Schubert: The Late String Quartets & String Quintet (3 CD's)\", 2.32),\n",
        " (u'BackBeat Soundtrack', 2.2440583333333333),\n",
        " (u'Bizet: Carmen Highlights', 2.215533333333333),\n",
        " (u'Bach: Goldberg Variations', 2.0077166666666666),\n",
        " (u'Handel: Music for the Royal Fireworks (Original Version 1749)', 2.0),\n",
        " (u'Charpentier: Divertissements, Airs & Concerts', 1.8377666666666668),\n",
        " (u'English Renaissance', 1.69135),\n",
        " (u'SCRIABIN: Vers la flamme', 1.6882166666666667),\n",
        " (u\"Monteverdi: L'Orfeo\", 1.11065),\n",
        " (u\"Liszt - 12 \\xc9tudes D'Execution Transcendante\", 0.863)]"
       ]
      }
     ],
     "prompt_number": 50
    },
    {
     "cell_type": "code",
     "collapsed": false,
     "input": [
      "#Using a conditional with a group by\n",
      "#Get albums with average track list between 3 and 5 minutes\n",
      "tracks_between_3_5 = \"\"\"SELECT Album.Title, AVG(Track.Milliseconds) / 1000 / 60 AS Time FROM Track \n",
      "            INNER JOIN Album ON Album.AlbumId = Track.AlbumId\n",
      "            GROUP BY Track.AlbumID\n",
      "            HAVING Time BETWEEN 3 AND 5\n",
      "            ORDER BY Time Desc\"\"\"\n",
      "run_sql(tracks_between_3_5)"
     ],
     "language": "python",
     "metadata": {},
     "outputs": [
      {
       "metadata": {},
       "output_type": "pyout",
       "prompt_number": 51,
       "text": [
        "[(u'Bartok: Violin & Viola Concertos', 4.989166666666667),\n",
        " (u'Led Zeppelin I', 4.982220370370371),\n",
        " (u'A Real Dead One', 4.982197222222222),\n",
        " (u'Big Ones', 4.90189888888889),\n",
        " (u'Muso Ko', 4.887016666666667),\n",
        " (u'Fear Of The Dark', 4.886013888888888),\n",
        " (u'Heart of the Night', 4.857751388888889),\n",
        " (u'Ten', 4.857380303030302),\n",
        " (u'Physical Graffiti [Disc 2]', 4.8510277777777775),\n",
        " (u'No Security', 4.847820238095237),\n",
        " (u'Diary of a Madman (Remastered)', 4.8475166666666665),\n",
        " (u'Alcohol Fueled Brewtality Live! [Disc 2]', 4.82585),\n",
        " (u'South American Getaway', 4.823133333333333),\n",
        " (u'Synkronized', 4.819187878787878),\n",
        " (u'20th Century Masters - The Millennium Collection: The Best of Scorpions',\n",
        "  4.789502777777779),\n",
        " (u'Nielsen: The Six Symphonies', 4.7833),\n",
        " (u'Respighi:Pines of Rome', 4.779016666666666),\n",
        " (u'Restless and Wild', 4.767155555555556),\n",
        " (u'Dark Side Of The Moon', 4.764144444444445),\n",
        " (u'J.S. Bach: Chaconne, Suite in E Minor, Partita in E Major & Prelude, Fugue and Allegro',\n",
        "  4.761216666666667),\n",
        " (u'Use Your Illusion I', 4.7576375),\n",
        " (u'Djavan Ao Vivo - Vol. 1', 4.6900076923076925),\n",
        " (u'The Best Of 1980-1990', 4.685614285714285),\n",
        " (u'New Adventures In Hi-Fi', 4.6822857142857135),\n",
        " (u'Audioslave', 4.67584880952381),\n",
        " (u'Carnaval 2001', 4.67382738095238),\n",
        " (u'A-Sides', 4.658851960784314),\n",
        " (u'Djavan Ao Vivo - Vol. 02', 4.649687179487179),\n",
        " (u'Led Zeppelin II', 4.627535185185185),\n",
        " (u'Puccini: Madama Butterfly - Highlights', 4.627316666666667),\n",
        " (u'Achtung Baby', 4.622901388888889),\n",
        " (u'Quiet Songs', 4.615733333333334),\n",
        " (u'Frank', 4.599707575757575),\n",
        " (u'Morning Dance', 4.586416666666667),\n",
        " (u\"Vault: Def Leppard's Greatest Hits\", 4.584455208333334),\n",
        " (u'Prokofiev: Romeo & Juliet', 4.583583333333333),\n",
        " (u'Great Opera Choruses', 4.575066666666667),\n",
        " (u'Bongo Fury', 4.566535185185185),\n",
        " (u'Iron Maiden', 4.531366666666667),\n",
        " (u'Pachelbel: Canon & Gigue', 4.5298),\n",
        " (u'Facelift', 4.513006944444444),\n",
        " (u'Unplugged', 4.507375555555555),\n",
        " (u'Transmission', 4.505365151515152),\n",
        " (u\"All That You Can't Leave Behind\", 4.491824242424242),\n",
        " (u'Appetite for Destruction', 4.487480555555555),\n",
        " (u'Tangents', 4.481151111111111),\n",
        " (u'Out Of Exile', 4.478106944444445),\n",
        " (u'Core', 4.470484722222222),\n",
        " (u'A TempestadeTempestade Ou O Livro Dos Dias', 4.469454444444444),\n",
        " (u'Greatest Hits II', 4.469157843137255),\n",
        " (u'How To Dismantle An Atomic Bomb', 4.468713636363636),\n",
        " (u'Live On Two Legs [Live]', 4.45724375),\n",
        " (u'Worlds', 4.448933333333333),\n",
        " (u'Maquinarama', 4.435584722222222),\n",
        " (u'Garage Inc. (Disc 2)', 4.429055208333334),\n",
        " (u\"Great Recordings of the Century: Paganini's 24 Caprices\",\n",
        "  4.425683333333334),\n",
        " (u'Jagged Little Pill', 4.424262820512821),\n",
        " (u'No Prayer For The Dying', 4.420955),\n",
        " (u'Angel Dust', 4.416332142857143),\n",
        " (u'American Idiot', 4.4075512820512825),\n",
        " (u'Greatest Hits', 4.4051845029239765),\n",
        " (u'Judas 0: B-Sides and Rarities', 4.3870125),\n",
        " (u'Contraband', 4.380860256410257),\n",
        " (u'Great Recordings of the Century - Shubert: Schwanengesang, 4 Lieder',\n",
        "  4.3641499999999995),\n",
        " (u'Quanta Gente Veio Ver (Live)', 4.35234),\n",
        " (u'Blood Sugar Sex Magik', 4.350071568627451),\n",
        " (u'Motley Crue Greatest Hits', 4.348200980392156),\n",
        " (u'Radio Brasil (O Som da Jovem Vanguarda) - Seleccao de Henrique Amaro',\n",
        "  4.342002941176471),\n",
        " (u'Roda De Funk', 4.3394208333333335),\n",
        " (u'The Best Of Men At Work', 4.337973333333333),\n",
        " (u'Black Sabbath Vol. 4 (Remaster)', 4.336535),\n",
        " (u'In Your Honor [Disc 2]', 4.327263333333333),\n",
        " (u'Mais Do Mesmo', 4.317028124999999),\n",
        " (u'Faur\\xe9: Requiem, Ravel: Pavane & Others', 4.3153999999999995),\n",
        " (u'Pure Cult: The Best Of The Cult (For Rockers, Ravers, Lovers & Sinners) [UK]',\n",
        "  4.308092592592592),\n",
        " (u'By The Way', 4.3020322916666665),\n",
        " (u'Led Zeppelin III', 4.300314999999999),\n",
        " (u'Bark at the Moon (Remastered)', 4.287533333333333),\n",
        " (u'Na Pista', 4.2662233333333335),\n",
        " (u'The Best Of Van Halen, Vol. I', 4.2646862745098035),\n",
        " (u'Rattle And Hum', 4.26286862745098),\n",
        " (u'The Police Greatest Hits', 4.260595238095238),\n",
        " (u'Beyond Good And Evil', 4.254031944444445),\n",
        " (u'Adams, John: The Chairman Dances', 4.248833333333334),\n",
        " (u'The Beast Live', 4.246025),\n",
        " (u'Prokofiev: Symphony No.1', 4.23335),\n",
        " (u'Grieg: Peer Gynt Suites & Sibelius: Pell\\xe9as et M\\xe9lisande', 4.2237),\n",
        " (u'Armada: Music from the Courts of England and Spain', 4.22135),\n",
        " (u'War', 4.216505),\n",
        " (u'UB40 The Best Of - Volume Two [UK]', 4.194602380952381),\n",
        " (u'Jota Quest-1995', 4.1893819444444444),\n",
        " (u'Revelations', 4.170997619047619),\n",
        " (u'The Last Night of the Proms', 4.167183333333333),\n",
        " (u'Original Soundtracks 1', 4.154395238095238),\n",
        " (u'Voodoo Lounge', 4.145537777777778),\n",
        " (u'Come Taste The Band', 4.1425777777777775),\n",
        " (u'Chill: Brazil (Disc 2)', 4.138685294117647),\n",
        " (u'Living After Midnight', 4.138657291666666),\n",
        " (u'Misplaced Childhood', 4.12895),\n",
        " (u'Coda', 4.127339583333334),\n",
        " (u'Rotten Apples: Greatest Hits', 4.121025),\n",
        " (u'In Step', 4.114451666666667),\n",
        " (u'Cidade Negra - Hits', 4.089336904761905),\n",
        " (u'Adorate Deum: Gregorian Chant from the Proper of the Mass',\n",
        "  4.088616666666667),\n",
        " (u'O Samba Pocon\\xe9', 4.082377272727273),\n",
        " (u'Stormbringer', 4.068661111111111),\n",
        " (u'The Best of Ed Motta', 4.059171428571428),\n",
        " (u'Mascagni: Cavalleria Rusticana', 4.057266666666667),\n",
        " (u'The Cream Of Clapton', 4.049261111111111),\n",
        " (u'The Doors', 4.045051515151515),\n",
        " (u'In Your Honor [Disc 1]', 4.015491666666667),\n",
        " (u'Out Of Time', 4.015328787878788),\n",
        " (u'Palestrina: Missa Papae Marcelli & Allegri: Miserere', 4.0111),\n",
        " (u'For Those About To Rock We Salute You', 4.0006916666666665),\n",
        " (u'The Best Of Buddy Guy - The Millenium Collection', 3.9952257575757577),\n",
        " (u'B-Sides 1980-1990', 3.9943166666666667),\n",
        " (u'Compositores', 3.9940566666666664),\n",
        " (u'Minha Hist\\xf3ria', 3.9904130952380954),\n",
        " (u'King For A Day Fool For A Lifetime', 3.9886566666666665),\n",
        " (u'Minas', 3.978005128205128),\n",
        " (u'Faceless', 3.9529694444444443),\n",
        " (u'Lulu Santos - RCA 100 Anos De M\\xfasica - \\xc1lbum 02',\n",
        "  3.9457857142857145),\n",
        " (u'Carry On', 3.9195226190476187),\n",
        " (u'Prokofiev: Symphony No.5 & Stravinksy: Le Sacre Du Printemps',\n",
        "  3.9124333333333334),\n",
        " (u'Cake: B-Sides and Rarities', 3.9002166666666667),\n",
        " (u'The World of Classical Favourites', 3.876675),\n",
        " (u'Killers', 3.8728183333333335),\n",
        " (u'C\\xe1ssia Eller - Sem Limite [Disc 1]', 3.870963333333333),\n",
        " (u'Da Lama Ao Caos', 3.8675217948717946),\n",
        " (u'Ac\\xfastico MTV [Live]', 3.8639882352941175),\n",
        " (u'Minha Historia', 3.8606093137254898),\n",
        " (u'Vs.', 3.8578805555555555),\n",
        " (u'Pearl Jam', 3.825457692307692),\n",
        " (u'My Generation - The Very Best Of The Who', 3.8167200000000006),\n",
        " (u'Greatest Kiss', 3.812520833333333),\n",
        " (u'Unplugged [Live]', 3.783742222222222),\n",
        " (u'C\\xe1ssia Eller - Cole\\xe7\\xe3o Sem Limite [Disc 2]', 3.77248),\n",
        " (u'Arquivo Os Paralamas Do Sucesso', 3.7662229166666665),\n",
        " (u'Surfing with the Alien (Remastered)', 3.7662066666666667),\n",
        " (u'Bach: Orchestral Suites Nos. 1 - 4', 3.7655499999999997),\n",
        " (u'Californication', 3.761623333333333),\n",
        " (u'Lulu Santos - RCA 100 Anos De M\\xfasica - \\xc1lbum 01',\n",
        "  3.7546261904761904),\n",
        " (u'Chronicle, Vol. 2', 3.749848333333333),\n",
        " (u'Get Born', 3.7433717948717944),\n",
        " (u'Miles Ahead', 3.731241666666667),\n",
        " (u'Green', 3.730318181818182),\n",
        " (u'Great Recordings of the Century - Mahler: Das Lied von der Erde',\n",
        "  3.726383333333333),\n",
        " (u'Instant Karma: The Amnesty International Campaign to Save Darfur',\n",
        "  3.720931884057971),\n",
        " (u'The Best Of R.E.M.: The IRS Years', 3.7191739583333336),\n",
        " (u'Mozart: Chamber Music', 3.68885),\n",
        " (u'Elis Regina-Minha Hist\\xf3ria', 3.685619047619048),\n",
        " (u'Demorou...', 3.674586111111111),\n",
        " (u'Vin\\xedcius De Moraes - Sem Limite', 3.6598333333333333),\n",
        " (u'Cafezinho', 3.649670238095238),\n",
        " (u'Chill: Brazil (Disc 1)', 3.62873137254902),\n",
        " (u'Riot Act', 3.618297777777778),\n",
        " (u'Vinicius De Moraes', 3.616356666666667),\n",
        " (u'The Colour And The Shape', 3.6093461538461535),\n",
        " (u'Milton Nascimento Ao Vivo', 3.609311538461539),\n",
        " (u'Olodum', 3.5950333333333333),\n",
        " (u'Album Of The Year', 3.5925555555555557),\n",
        " (u'Ac\\xfastico MTV', 3.5903142857142853),\n",
        " (u'Carried to Dust (Bonus Track Version)', 3.5897666666666668),\n",
        " (u'The Singles', 3.578406481481481),\n",
        " (u'News Of The World', 3.5779363636363635),\n",
        " (u'Ao Vivo [IMPORT]', 3.5659122807017543),\n",
        " (u'Volume Dois', 3.5627968749999996),\n",
        " (u'Nevermind', 3.551480555555556),\n",
        " (u'Are You Experienced?', 3.5471137254901963),\n",
        " (u'Prenda Minha', 3.5364648148148143),\n",
        " (u'Back to Black', 3.533402777777778),\n",
        " (u\"Up An' Atom\", 3.5128871212121213),\n",
        " (u'Sex Machine', 3.5093683333333336),\n",
        " (u'Meus Momentos', 3.4945857142857144),\n",
        " (u'Arquivo II', 3.4830944444444443),\n",
        " (u'Warner 25 Anos', 3.4606261904761904),\n",
        " (u'Greatest Hits I', 3.439727450980392),\n",
        " (u'As Can\\xe7\\xf5es de Eu Tu Eles', 3.4359952380952383),\n",
        " (u'Koyaanisqatsi (Soundtrack from the Motion Picture)', 3.4334166666666666),\n",
        " (u'Every Kind of Light', 3.4330583333333333),\n",
        " (u'Chronicle, Vol. 1', 3.405575833333333),\n",
        " (u'Vozes do MPB', 3.403188095238095),\n",
        " (u'Deixa Entrar', 3.3838761904761907),\n",
        " (u'Raul Seixas', 3.372989285714285),\n",
        " (u'Ax\\xe9 Bahia 2001', 3.3606476190476187),\n",
        " (u'Vivaldi: The Four Seasons', 3.3181000000000003),\n",
        " (u'A Copland Celebration, Vol. I', 3.3010666666666664),\n",
        " (u'Mezmerize', 3.291893939393939),\n",
        " (u'Ac\\xfastico', 3.266843181818182),\n",
        " (u'Van Halen', 3.232443939393939),\n",
        " (u'Seek And Shall Find: More Of The Best (1963-1981)', 3.2297425925925927),\n",
        " (u'Bach: Violin Concertos', 3.2287000000000003),\n",
        " (u'Serie Sem Limite (Disc 2)', 3.2165366666666673),\n",
        " (u'Hot Rocks, 1964-1971 (Disc 1)', 3.2101152777777773),\n",
        " (u'From The Muddy Banks Of The Wishkah [Live]', 3.1797852941176474),\n",
        " (u'Barulhinho Bom', 3.1794564814814814),\n",
        " (u'My Way: The Best Of Frank Sinatra [Disc 1]', 3.1527368055555556),\n",
        " (u'Wagner: Favourite Overtures', 3.1501333333333337),\n",
        " (u'Body Count', 3.129793137254902),\n",
        " (u'Os C\\xe3es Ladram Mas A Caravana N\\xe3o P\\xe1ra', 3.0907395833333333),\n",
        " (u'Afrociberdelia', 3.071576811594203),\n",
        " (u'Ace Of Spades', 3.0394255555555554)]"
       ]
      }
     ],
     "prompt_number": 51
    },
    {
     "cell_type": "code",
     "collapsed": false,
     "input": [
      "#SELECT Tracks FROM the playlist 'Heavy Metal Classic' - Start with Playlist, join PlaylistTrack and Track tables"
     ],
     "language": "python",
     "metadata": {},
     "outputs": []
    },
    {
     "cell_type": "code",
     "collapsed": false,
     "input": [
      "table_information('Playlist')"
     ],
     "language": "python",
     "metadata": {},
     "outputs": []
    },
    {
     "cell_type": "code",
     "collapsed": false,
     "input": [
      "table_information(u'PlaylistTrack')"
     ],
     "language": "python",
     "metadata": {},
     "outputs": []
    },
    {
     "cell_type": "code",
     "collapsed": false,
     "input": [
      "table_information(u'Track')"
     ],
     "language": "python",
     "metadata": {},
     "outputs": []
    },
    {
     "cell_type": "code",
     "collapsed": false,
     "input": [],
     "language": "python",
     "metadata": {},
     "outputs": []
    },
    {
     "cell_type": "code",
     "collapsed": false,
     "input": [],
     "language": "python",
     "metadata": {},
     "outputs": []
    },
    {
     "cell_type": "heading",
     "level": 2,
     "metadata": {},
     "source": [
      "Playing nice with Pandas"
     ]
    },
    {
     "cell_type": "markdown",
     "metadata": {},
     "source": [
      "- This is awesome"
     ]
    },
    {
     "cell_type": "code",
     "collapsed": false,
     "input": [
      "tmp = pd.read_sql_query(\"SELECT * FROM Track\", con)\n",
      "tmp.head()"
     ],
     "language": "python",
     "metadata": {},
     "outputs": [
      {
       "html": [
        "<div style=\"max-height:1000px;max-width:1500px;overflow:auto;\">\n",
        "<table border=\"1\" class=\"dataframe\">\n",
        "  <thead>\n",
        "    <tr style=\"text-align: right;\">\n",
        "      <th></th>\n",
        "      <th>TrackId</th>\n",
        "      <th>Name</th>\n",
        "      <th>AlbumId</th>\n",
        "      <th>MediaTypeId</th>\n",
        "      <th>GenreId</th>\n",
        "      <th>Composer</th>\n",
        "      <th>Milliseconds</th>\n",
        "      <th>Bytes</th>\n",
        "      <th>UnitPrice</th>\n",
        "    </tr>\n",
        "  </thead>\n",
        "  <tbody>\n",
        "    <tr>\n",
        "      <th>0</th>\n",
        "      <td> 1</td>\n",
        "      <td> For Those About To Rock (We Salute You)</td>\n",
        "      <td> 1</td>\n",
        "      <td> 1</td>\n",
        "      <td> 1</td>\n",
        "      <td>         Angus Young, Malcolm Young, Brian Johnson</td>\n",
        "      <td> 343719</td>\n",
        "      <td> 11170334</td>\n",
        "      <td> 0.99</td>\n",
        "    </tr>\n",
        "    <tr>\n",
        "      <th>1</th>\n",
        "      <td> 2</td>\n",
        "      <td>                       Balls to the Wall</td>\n",
        "      <td> 2</td>\n",
        "      <td> 2</td>\n",
        "      <td> 1</td>\n",
        "      <td>                                              None</td>\n",
        "      <td> 342562</td>\n",
        "      <td>  5510424</td>\n",
        "      <td> 0.99</td>\n",
        "    </tr>\n",
        "    <tr>\n",
        "      <th>2</th>\n",
        "      <td> 3</td>\n",
        "      <td>                         Fast As a Shark</td>\n",
        "      <td> 3</td>\n",
        "      <td> 2</td>\n",
        "      <td> 1</td>\n",
        "      <td> F. Baltes, S. Kaufman, U. Dirkscneider &amp; W. Ho...</td>\n",
        "      <td> 230619</td>\n",
        "      <td>  3990994</td>\n",
        "      <td> 0.99</td>\n",
        "    </tr>\n",
        "    <tr>\n",
        "      <th>3</th>\n",
        "      <td> 4</td>\n",
        "      <td>                       Restless and Wild</td>\n",
        "      <td> 3</td>\n",
        "      <td> 2</td>\n",
        "      <td> 1</td>\n",
        "      <td> F. Baltes, R.A. Smith-Diesel, S. Kaufman, U. D...</td>\n",
        "      <td> 252051</td>\n",
        "      <td>  4331779</td>\n",
        "      <td> 0.99</td>\n",
        "    </tr>\n",
        "    <tr>\n",
        "      <th>4</th>\n",
        "      <td> 5</td>\n",
        "      <td>                    Princess of the Dawn</td>\n",
        "      <td> 3</td>\n",
        "      <td> 2</td>\n",
        "      <td> 1</td>\n",
        "      <td>                        Deaffy &amp; R.A. Smith-Diesel</td>\n",
        "      <td> 375418</td>\n",
        "      <td>  6290521</td>\n",
        "      <td> 0.99</td>\n",
        "    </tr>\n",
        "  </tbody>\n",
        "</table>\n",
        "</div>"
       ],
       "metadata": {},
       "output_type": "pyout",
       "prompt_number": 49,
       "text": [
        "   TrackId                                     Name  AlbumId  MediaTypeId  \\\n",
        "0        1  For Those About To Rock (We Salute You)        1            1   \n",
        "1        2                        Balls to the Wall        2            2   \n",
        "2        3                          Fast As a Shark        3            2   \n",
        "3        4                        Restless and Wild        3            2   \n",
        "4        5                     Princess of the Dawn        3            2   \n",
        "\n",
        "   GenreId                                           Composer  Milliseconds  \\\n",
        "0        1          Angus Young, Malcolm Young, Brian Johnson        343719   \n",
        "1        1                                               None        342562   \n",
        "2        1  F. Baltes, S. Kaufman, U. Dirkscneider & W. Ho...        230619   \n",
        "3        1  F. Baltes, R.A. Smith-Diesel, S. Kaufman, U. D...        252051   \n",
        "4        1                         Deaffy & R.A. Smith-Diesel        375418   \n",
        "\n",
        "      Bytes  UnitPrice  \n",
        "0  11170334       0.99  \n",
        "1   5510424       0.99  \n",
        "2   3990994       0.99  \n",
        "3   4331779       0.99  \n",
        "4   6290521       0.99  "
       ]
      }
     ],
     "prompt_number": 49
    },
    {
     "cell_type": "code",
     "collapsed": false,
     "input": [
      "pd.read_sql_query(tracks_between_3_5, con)"
     ],
     "language": "python",
     "metadata": {},
     "outputs": []
    },
    {
     "cell_type": "heading",
     "level": 2,
     "metadata": {},
     "source": [
      "More SQL"
     ]
    },
    {
     "cell_type": "markdown",
     "metadata": {},
     "source": [
      "- UPDATE Column = Value FROM Table WHERE Condtion\n",
      "- DELETE FROM Table WHERE Condition\n",
      "- Make sure to use a where clause or you will clobber all values!"
     ]
    },
    {
     "cell_type": "heading",
     "level": 3,
     "metadata": {},
     "source": [
      "Sanitize SQL!"
     ]
    },
    {
     "cell_type": "markdown",
     "metadata": {},
     "source": [
      "https://xkcd.com/327/"
     ]
    },
    {
     "cell_type": "code",
     "collapsed": false,
     "input": [],
     "language": "python",
     "metadata": {},
     "outputs": []
    },
    {
     "cell_type": "code",
     "collapsed": false,
     "input": [],
     "language": "python",
     "metadata": {},
     "outputs": []
    }
   ],
   "metadata": {}
  }
 ]
}