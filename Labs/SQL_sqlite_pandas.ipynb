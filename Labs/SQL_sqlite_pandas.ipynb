{
 "metadata": {
  "name": "",
  "signature": "sha256:9950b52dd73277a930589c5c39a67f793d1389dd7c7af2ee9da28937fbbc5d37"
 },
 "nbformat": 3,
 "nbformat_minor": 0,
 "worksheets": [
  {
   "cells": [
    {
     "cell_type": "heading",
     "level": 1,
     "metadata": {},
     "source": [
      "SQLite"
     ]
    },
    {
     "cell_type": "markdown",
     "metadata": {},
     "source": [
      "- relational database\n",
      "- self-contained \n",
      "- great python support"
     ]
    },
    {
     "cell_type": "code",
     "collapsed": false,
     "input": [
      "import sqlite3\n",
      "import pandas as pd"
     ],
     "language": "python",
     "metadata": {},
     "outputs": []
    },
    {
     "cell_type": "heading",
     "level": 2,
     "metadata": {},
     "source": [
      "Create a database connection"
     ]
    },
    {
     "cell_type": "code",
     "collapsed": false,
     "input": [
      "con = sqlite3.connect(\"source_data/sql_workshop.db\")"
     ],
     "language": "python",
     "metadata": {},
     "outputs": []
    },
    {
     "cell_type": "markdown",
     "metadata": {},
     "source": [
      "- allows database operations\n",
      "- can create a new database by specifing the path to a file\n",
      "- sqlite3.connect(\":memory:\") creates an in-memory database"
     ]
    },
    {
     "cell_type": "heading",
     "level": 4,
     "metadata": {},
     "source": [
      "Which tables to we have? Don't worry about the syntax just yet, we will get to it"
     ]
    },
    {
     "cell_type": "code",
     "collapsed": false,
     "input": [
      "cursor = con.cursor()\n",
      "cursor.execute(\"SELECT name FROM sqlite_master WHERE type='table';\")\n",
      "[x for x in cursor.fetchall()]"
     ],
     "language": "python",
     "metadata": {},
     "outputs": []
    },
    {
     "cell_type": "heading",
     "level": 4,
     "metadata": {},
     "source": [
      "Get information about a table?"
     ]
    },
    {
     "cell_type": "code",
     "collapsed": false,
     "input": [
      "def table_information(table_name, columns_only=False):\n",
      "    \"\"\"\n",
      "    Function returns table information. Will return list of columns if columns_only is set\n",
      "    \"\"\"\n",
      "    cursor = con.cursor()\n",
      "    cursor.execute(\"PRAGMA table_info({})\".format(table_name))\n",
      "    if columns_only == False:\n",
      "        return [x for x in cursor.fetchall()]\n",
      "    else:\n",
      "        column_list = []\n",
      "        return [row[1:2][0] for row in cursor.fetchall()]\n",
      "        \n",
      "table_information('Track')"
     ],
     "language": "python",
     "metadata": {},
     "outputs": []
    },
    {
     "cell_type": "heading",
     "level": 1,
     "metadata": {},
     "source": [
      "SQL"
     ]
    },
    {
     "cell_type": "markdown",
     "metadata": {},
     "source": [
      "- Structured Query Language\n",
      "- data-specific programming language\n",
      "- widely-used "
     ]
    },
    {
     "cell_type": "heading",
     "level": 2,
     "metadata": {},
     "source": [
      "SELECT Statement"
     ]
    },
    {
     "cell_type": "markdown",
     "metadata": {},
     "source": [
      "- Simple: SELECT columns FROM table\n",
      "- Limiting results: SELECT columns FROM table LIMIT number OFFSET step\n",
      "- Counting: SELECT COUNT(column) FROM table\n",
      "- Condtional: SELECT columns FROM table WHERE condition\n",
      "- Ordering: SELECT columns FROM table ORDER BY column\n",
      "- Operations: SELECT MIN(Column) FROM TABLE (Also, MAX, AVG, SUM)\n",
      "- Searching: SELECT columns FROM TABLE WHERE column LIKE '%string%'\n",
      "- Subquery - SELECT column FROM TableA WHERE column = (SELECT column FROM TableB)"
     ]
    },
    {
     "cell_type": "code",
     "collapsed": false,
     "input": [
      "def run_sql(query):\n",
      "    \"\"\"\n",
      "    Convience function that returns the results of a query\n",
      "    \"\"\"\n",
      "    cursor = con.cursor()   #Cursor allows traversal or records\n",
      "    cursor.execute(query)\n",
      "    return cursor.fetchall()"
     ],
     "language": "python",
     "metadata": {},
     "outputs": []
    },
    {
     "cell_type": "heading",
     "level": 2,
     "metadata": {},
     "source": [
      "Simple SELECT"
     ]
    },
    {
     "cell_type": "code",
     "collapsed": false,
     "input": [
      "run_sql(\"SELECT LastName, FirstName, Title FROM Employee\")"
     ],
     "language": "python",
     "metadata": {},
     "outputs": []
    },
    {
     "cell_type": "markdown",
     "metadata": {},
     "source": [
      "- Can perform operations and rename in the statement"
     ]
    },
    {
     "cell_type": "code",
     "collapsed": false,
     "input": [
      "run_sql(\"SELECT Name, Milliseconds / 1000 AS Seconds FROM Track LIMIT 10\")"
     ],
     "language": "python",
     "metadata": {},
     "outputs": []
    },
    {
     "cell_type": "heading",
     "level": 2,
     "metadata": {},
     "source": [
      "Limiting Results"
     ]
    },
    {
     "cell_type": "markdown",
     "metadata": {},
     "source": [
      "- SELECT * FROM table' allows selection of all columns in the table\n",
      "- Can also use OFFSET in combination to move the cursor forward"
     ]
    },
    {
     "cell_type": "code",
     "collapsed": false,
     "input": [
      "dataset = run_sql(\"\"\"SELECT * FROM Track LIMIT 10\"\"\")\n",
      "for row in dataset:\n",
      "    track_data = {x: y for x, y in zip(table_information('Track', True), row)}\n",
      "    print \"{name}\\ttime:{length:.2f}\".format(name=str(track_data[u'Name']).encode('ascii', 'ignore'), \n",
      "                                                      group=str(track_data[u'Composer']).encode('utf-8', 'ignore'), \n",
      "                                                      length=track_data['Milliseconds']/1000/60.)"
     ],
     "language": "python",
     "metadata": {},
     "outputs": []
    },
    {
     "cell_type": "code",
     "collapsed": false,
     "input": [
      "dataset = run_sql(\"\"\"SELECT * FROM Track LIMIT 10 OFFSET 100\"\"\")\n",
      "for row in dataset:\n",
      "    track_data = {x: y for x, y in zip(table_information('Track', True), row)}\n",
      "    print \"{name}\\ttime:{length:.2f}\".format(name=str(track_data[u'Name']).encode('ascii', 'ignore'), \n",
      "                                                      group=str(track_data[u'Composer']).encode('utf-8', 'ignore'), \n",
      "                                                      length=track_data['Milliseconds']/1000/60.)"
     ],
     "language": "python",
     "metadata": {},
     "outputs": []
    },
    {
     "cell_type": "heading",
     "level": 2,
     "metadata": {},
     "source": [
      "Counting"
     ]
    },
    {
     "cell_type": "code",
     "collapsed": false,
     "input": [
      "#How many tracks are there in the database?\n",
      "run_sql(\"\"\"SELECT COUNT(*) FROM Track\"\"\")"
     ],
     "language": "python",
     "metadata": {},
     "outputs": []
    },
    {
     "cell_type": "heading",
     "level": 2,
     "metadata": {},
     "source": [
      "Conditional"
     ]
    },
    {
     "cell_type": "code",
     "collapsed": false,
     "input": [
      "#How many tracks are there with that are 4 - 5 minutes long\n",
      "run_sql(\"\"\"SELECT COUNT(*) FROM Track WHERE Milliseconds BETWEEN {} AND {}\"\"\".format(4 * 60 * 1000, \n",
      "                                                                                               5 * 60 * 1000))"
     ],
     "language": "python",
     "metadata": {},
     "outputs": []
    },
    {
     "cell_type": "heading",
     "level": 2,
     "metadata": {},
     "source": [
      "Ordering"
     ]
    },
    {
     "cell_type": "code",
     "collapsed": false,
     "input": [
      "#Return the genres in alphabetic order\n",
      "dataset = run_sql(\"\"\"SELECT * FROM Genre ORDER BY Name\"\"\")   # Can reverse the order by using DESC\n",
      "for row in dataset:\n",
      "    track_data = {x: y for x, y in zip(table_information('Track', True), row)}\n",
      "    print track_data['Name']"
     ],
     "language": "python",
     "metadata": {},
     "outputs": []
    },
    {
     "cell_type": "heading",
     "level": 2,
     "metadata": {},
     "source": [
      "Operations"
     ]
    },
    {
     "cell_type": "code",
     "collapsed": false,
     "input": [
      "run_sql(\"\"\" SELECT MIN(Milliseconds), MAX(Milliseconds), AVG(Milliseconds), SUM(Milliseconds) FROM Track\"\"\")"
     ],
     "language": "python",
     "metadata": {},
     "outputs": []
    },
    {
     "cell_type": "heading",
     "level": 2,
     "metadata": {},
     "source": [
      "Text Searching"
     ]
    },
    {
     "cell_type": "code",
     "collapsed": false,
     "input": [
      "#Find track names that someone named Steven Tyler composed\n",
      "run_sql(\"\"\"SELECT Name FROM Track WHERE COMPOSER LIKE '%Steven Tyler%'\"\"\")"
     ],
     "language": "python",
     "metadata": {},
     "outputs": []
    },
    {
     "cell_type": "heading",
     "level": 2,
     "metadata": {},
     "source": [
      "Subquery"
     ]
    },
    {
     "cell_type": "code",
     "collapsed": false,
     "input": [
      "table_information('Genre')"
     ],
     "language": "python",
     "metadata": {},
     "outputs": []
    },
    {
     "cell_type": "code",
     "collapsed": false,
     "input": [
      "#Select all hip hop tracks\n",
      "run_sql(\"\"\"SELECT Track.Name FROM Track WHERE Track.GenreID = \\\n",
      "            (SELECT Genre.GenreId FROM Genre WHERE Genre.Name = 'Hip Hop/Rap')\"\"\")"
     ],
     "language": "python",
     "metadata": {},
     "outputs": []
    },
    {
     "cell_type": "heading",
     "level": 1,
     "metadata": {},
     "source": [
      "Practice"
     ]
    },
    {
     "cell_type": "code",
     "collapsed": false,
     "input": [
      "table_information('Invoice')"
     ],
     "language": "python",
     "metadata": {},
     "outputs": []
    },
    {
     "cell_type": "code",
     "collapsed": false,
     "input": [
      "#How many total invoices are there"
     ],
     "language": "python",
     "metadata": {},
     "outputs": []
    },
    {
     "cell_type": "code",
     "collapsed": false,
     "input": [
      "#What are the 10 highest totals (hint: use DESC after the ORDER BY CLAUSE)"
     ],
     "language": "python",
     "metadata": {},
     "outputs": []
    },
    {
     "cell_type": "code",
     "collapsed": false,
     "input": [
      "#What is the average amount people owe?"
     ],
     "language": "python",
     "metadata": {},
     "outputs": []
    },
    {
     "cell_type": "heading",
     "level": 2,
     "metadata": {},
     "source": [
      "Joins"
     ]
    },
    {
     "cell_type": "markdown",
     "metadata": {},
     "source": [
      "- Links tables together \n",
      "- databases are designed to store as little redundant information as possible - normalization\n",
      "- Inner join vs. Outer join"
     ]
    },
    {
     "cell_type": "markdown",
     "metadata": {},
     "source": [
      "# Basic Format\n",
      "- SELECT FROM TableA INNER JOIN TableB ON TableA.Column == TableB.Column"
     ]
    },
    {
     "cell_type": "code",
     "collapsed": false,
     "input": [
      "table_information('Track')"
     ],
     "language": "python",
     "metadata": {},
     "outputs": []
    },
    {
     "cell_type": "code",
     "collapsed": false,
     "input": [
      "table_information('Genre')"
     ],
     "language": "python",
     "metadata": {},
     "outputs": []
    },
    {
     "cell_type": "code",
     "collapsed": false,
     "input": [
      "#Select tracks and genre\n",
      "run_sql(\"SELECT Track.Name, Genre.Name FROM Track INNER JOIN Genre ON Track.GenreID == Genre.GenreID LIMIT 10\")"
     ],
     "language": "python",
     "metadata": {},
     "outputs": []
    },
    {
     "cell_type": "heading",
     "level": 1,
     "metadata": {},
     "source": [
      "Practice"
     ]
    },
    {
     "cell_type": "code",
     "collapsed": false,
     "input": [
      "#Get tracks and running time (Milliseconds) for the album 'Appetite for Destruction'"
     ],
     "language": "python",
     "metadata": {},
     "outputs": []
    },
    {
     "cell_type": "heading",
     "level": 2,
     "metadata": {},
     "source": [
      "Group by"
     ]
    },
    {
     "cell_type": "markdown",
     "metadata": {},
     "source": [
      "- GROUP BY allows aggregate operations on groups of data\n",
      "- Can use HAVING to conditionally select groups\n",
      "- SELECT SUM(Column) FROM Table GROUP BY Column HACING Condition"
     ]
    },
    {
     "cell_type": "code",
     "collapsed": false,
     "input": [
      "#Average play time for tracks - order by longest\n",
      "run_sql(\"\"\"SELECT Album.Title, AVG(Track.Milliseconds) / 1000 / 60 AS Time FROM Track \n",
      "            INNER JOIN Album ON Album.AlbumId = Track.AlbumId\n",
      "            GROUP BY Track.AlbumID\n",
      "            ORDER BY Time Desc\"\"\")"
     ],
     "language": "python",
     "metadata": {},
     "outputs": []
    },
    {
     "cell_type": "code",
     "collapsed": false,
     "input": [
      "#Using a conditional with a group by\n",
      "#Get albums with average track list between 3 and 5 minutes\n",
      "tracks_between_3_5 = \"\"\"SELECT Album.Title, AVG(Track.Milliseconds) / 1000 / 60 AS Time FROM Track \n",
      "            INNER JOIN Album ON Album.AlbumId = Track.AlbumId\n",
      "            GROUP BY Track.AlbumID\n",
      "            HAVING Time BETWEEN 3 AND 5\n",
      "            ORDER BY Time Desc\"\"\"\n",
      "run_sql(tracks_between_3_5)"
     ],
     "language": "python",
     "metadata": {},
     "outputs": []
    },
    {
     "cell_type": "code",
     "collapsed": false,
     "input": [
      "#SELECT Tracks FROM the playlist 'Heavy Metal Classic' - Start with Playlist, join PlaylistTrack and Track tables"
     ],
     "language": "python",
     "metadata": {},
     "outputs": []
    },
    {
     "cell_type": "code",
     "collapsed": false,
     "input": [
      "table_information('Playlist')"
     ],
     "language": "python",
     "metadata": {},
     "outputs": []
    },
    {
     "cell_type": "code",
     "collapsed": false,
     "input": [
      "table_information(u'PlaylistTrack')"
     ],
     "language": "python",
     "metadata": {},
     "outputs": []
    },
    {
     "cell_type": "code",
     "collapsed": false,
     "input": [
      "table_information(u'Track')"
     ],
     "language": "python",
     "metadata": {},
     "outputs": []
    },
    {
     "cell_type": "heading",
     "level": 2,
     "metadata": {},
     "source": [
      "Playing nice with Pandas"
     ]
    },
    {
     "cell_type": "markdown",
     "metadata": {},
     "source": [
      "- This is awesome"
     ]
    },
    {
     "cell_type": "code",
     "collapsed": false,
     "input": [
      "tmp = pd.read_sql_query(\"SELECT * FROM Track\", con)\n",
      "tmp.head()"
     ],
     "language": "python",
     "metadata": {},
     "outputs": []
    },
    {
     "cell_type": "code",
     "collapsed": false,
     "input": [
      "pd.read_sql_query(tracks_between_3_5, con)"
     ],
     "language": "python",
     "metadata": {},
     "outputs": []
    },
    {
     "cell_type": "heading",
     "level": 2,
     "metadata": {},
     "source": [
      "More SQL"
     ]
    },
    {
     "cell_type": "markdown",
     "metadata": {},
     "source": [
      "- UPDATE Column = Value FROM Table WHERE Condtion\n",
      "- DELETE FROM Table WHERE Condition\n",
      "- Make sure to use a where clause or you will clobber all values!"
     ]
    },
    {
     "cell_type": "heading",
     "level": 3,
     "metadata": {},
     "source": [
      "Sanitize SQL!"
     ]
    },
    {
     "cell_type": "markdown",
     "metadata": {},
     "source": [
      "https://xkcd.com/327/"
     ]
    },
    {
     "cell_type": "code",
     "collapsed": false,
     "input": [],
     "language": "python",
     "metadata": {},
     "outputs": []
    },
    {
     "cell_type": "code",
     "collapsed": false,
     "input": [],
     "language": "python",
     "metadata": {},
     "outputs": []
    },
    {
     "cell_type": "code",
     "collapsed": false,
     "input": [],
     "language": "python",
     "metadata": {},
     "outputs": []
    },
    {
     "cell_type": "code",
     "collapsed": false,
     "input": [],
     "language": "python",
     "metadata": {},
     "outputs": []
    }
   ],
   "metadata": {}
  }
 ]
}