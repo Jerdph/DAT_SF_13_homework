{
 "metadata": {
  "name": "",
  "signature": "sha256:2b83c3fadaa53aba6cb502344203d5c03dd4feed10afc91572ae624c27e94d4b"
 },
 "nbformat": 3,
 "nbformat_minor": 0,
 "worksheets": [
  {
   "cells": [
    {
     "cell_type": "heading",
     "level": 2,
     "metadata": {},
     "source": [
      "DAT_SF13_HW2"
     ]
    },
    {
     "cell_type": "code",
     "collapsed": false,
     "input": [
      "#importing packages\n",
      "#matplotlib inline\n",
      "from __future__ import division\n",
      "import pandas as pd\n",
      "import numpy as np\n",
      "#from seaborn import plt\n",
      "import matplotlib.pyplot as plt\n",
      "from sklearn.datasets import load_iris\n",
      "from matplotlib.colors import ListedColormap\n",
      "from sklearn import neighbors, datasets, feature_selection\n",
      "from sklearn.cross_validation import train_test_split, cross_val_score"
     ],
     "language": "python",
     "metadata": {},
     "outputs": [],
     "prompt_number": 3
    },
    {
     "cell_type": "code",
     "collapsed": false,
     "input": [
      "# Load in the data\n",
      "iris = datasets.load_iris()\n",
      "#Create Data Frame\n",
      "iris_df = pd.DataFrame(iris.data, columns=iris.feature_names)\n",
      "#iris_df.head()\n",
      "iris_df.describe()"
     ],
     "language": "python",
     "metadata": {},
     "outputs": [
      {
       "html": [
        "<div style=\"max-height:1000px;max-width:1500px;overflow:auto;\">\n",
        "<table border=\"1\" class=\"dataframe\">\n",
        "  <thead>\n",
        "    <tr style=\"text-align: right;\">\n",
        "      <th></th>\n",
        "      <th>sepal length (cm)</th>\n",
        "      <th>sepal width (cm)</th>\n",
        "      <th>petal length (cm)</th>\n",
        "      <th>petal width (cm)</th>\n",
        "    </tr>\n",
        "  </thead>\n",
        "  <tbody>\n",
        "    <tr>\n",
        "      <th>count</th>\n",
        "      <td> 150.000000</td>\n",
        "      <td> 150.000000</td>\n",
        "      <td> 150.000000</td>\n",
        "      <td> 150.000000</td>\n",
        "    </tr>\n",
        "    <tr>\n",
        "      <th>mean</th>\n",
        "      <td>   5.843333</td>\n",
        "      <td>   3.054000</td>\n",
        "      <td>   3.758667</td>\n",
        "      <td>   1.198667</td>\n",
        "    </tr>\n",
        "    <tr>\n",
        "      <th>std</th>\n",
        "      <td>   0.828066</td>\n",
        "      <td>   0.433594</td>\n",
        "      <td>   1.764420</td>\n",
        "      <td>   0.763161</td>\n",
        "    </tr>\n",
        "    <tr>\n",
        "      <th>min</th>\n",
        "      <td>   4.300000</td>\n",
        "      <td>   2.000000</td>\n",
        "      <td>   1.000000</td>\n",
        "      <td>   0.100000</td>\n",
        "    </tr>\n",
        "    <tr>\n",
        "      <th>25%</th>\n",
        "      <td>   5.100000</td>\n",
        "      <td>   2.800000</td>\n",
        "      <td>   1.600000</td>\n",
        "      <td>   0.300000</td>\n",
        "    </tr>\n",
        "    <tr>\n",
        "      <th>50%</th>\n",
        "      <td>   5.800000</td>\n",
        "      <td>   3.000000</td>\n",
        "      <td>   4.350000</td>\n",
        "      <td>   1.300000</td>\n",
        "    </tr>\n",
        "    <tr>\n",
        "      <th>75%</th>\n",
        "      <td>   6.400000</td>\n",
        "      <td>   3.300000</td>\n",
        "      <td>   5.100000</td>\n",
        "      <td>   1.800000</td>\n",
        "    </tr>\n",
        "    <tr>\n",
        "      <th>max</th>\n",
        "      <td>   7.900000</td>\n",
        "      <td>   4.400000</td>\n",
        "      <td>   6.900000</td>\n",
        "      <td>   2.500000</td>\n",
        "    </tr>\n",
        "  </tbody>\n",
        "</table>\n",
        "</div>"
       ],
       "metadata": {},
       "output_type": "pyout",
       "prompt_number": 4,
       "text": [
        "       sepal length (cm)  sepal width (cm)  petal length (cm)  \\\n",
        "count         150.000000        150.000000         150.000000   \n",
        "mean            5.843333          3.054000           3.758667   \n",
        "std             0.828066          0.433594           1.764420   \n",
        "min             4.300000          2.000000           1.000000   \n",
        "25%             5.100000          2.800000           1.600000   \n",
        "50%             5.800000          3.000000           4.350000   \n",
        "75%             6.400000          3.300000           5.100000   \n",
        "max             7.900000          4.400000           6.900000   \n",
        "\n",
        "       petal width (cm)  \n",
        "count        150.000000  \n",
        "mean           1.198667  \n",
        "std            0.763161  \n",
        "min            0.100000  \n",
        "25%            0.300000  \n",
        "50%            1.300000  \n",
        "75%            1.800000  \n",
        "max            2.500000  "
       ]
      }
     ],
     "prompt_number": 4
    },
    {
     "cell_type": "heading",
     "level": 1,
     "metadata": {},
     "source": [
      "1.Implement Knn classification"
     ]
    },
    {
     "cell_type": "code",
     "collapsed": false,
     "input": [
      "#Specify Knn Parameter\n",
      "n_neighbors = 10\n",
      "iris_t= iris.target\n",
      "iris_knn = neighbors.KNeighborsClassifier(n_neighbors, weights= 'distance')\n"
     ],
     "language": "python",
     "metadata": {},
     "outputs": [],
     "prompt_number": 5
    },
    {
     "cell_type": "code",
     "collapsed": false,
     "input": [
      "#Split training data and test data\n",
      "X_train, X_test, Y_train, Y_test = train_test_split(iris.data, iris.target, test_size=0.3, random_state = 10)\n"
     ],
     "language": "python",
     "metadata": {},
     "outputs": [],
     "prompt_number": 6
    },
    {
     "cell_type": "code",
     "collapsed": false,
     "input": [
      "#Fit Knn function to the data using both uniform and distance\n",
      "for weights in ['uniform', 'distance']:\n",
      "    # we create an instance of Neighbours Classifier and fit the data.\n",
      "    clf = neighbors.KNeighborsClassifier(n_neighbors, weights=weights)\n",
      "    clf.fit(X_train, Y_train)\n",
      "    "
     ],
     "language": "python",
     "metadata": {},
     "outputs": [],
     "prompt_number": 7
    },
    {
     "cell_type": "code",
     "collapsed": false,
     "input": [
      "#Plotting the fit\n",
      "clf = neighbors.KNeighborsClassifier(8, weights='uniform')\n",
      "clf.fit(X_train[:, 2:4], Y_train)\n",
      "\n",
      "h = .02  # step size in the mesh\n",
      "\n",
      "# Create color maps\n",
      "cmap_light = ListedColormap(['#FFAAAA', '#AAFFAA', '#AAAAFF'])\n",
      "cmap_bold = ListedColormap(['#FF0000', '#00FF00', '#0000FF'])\n",
      "\n",
      "\n",
      "# Plot the decision boundary. For that, we will assign a color to each\n",
      "# point in the mesh [x_min, m_max]x[y_min, y_max].\n",
      "x_min, y_min = iris_df.min()[['petal length (cm)', 'petal width (cm)']]\n",
      "x_max, y_max = iris_df.max()[['petal length (cm)', 'petal width (cm)']]\n",
      "xx, yy = np.meshgrid(np.arange(x_min, x_max, h), np.arange(y_min, y_max, h))\n",
      "Z = clf.predict(np.c_[xx.ravel(), yy.ravel()])\n",
      "\n",
      "# Put the result into a color plot\n",
      "Z = Z.reshape(xx.shape)\n",
      "plt.figure()\n",
      "plt.pcolormesh(xx, yy, Z, cmap=cmap_light)"
     ],
     "language": "python",
     "metadata": {},
     "outputs": [
      {
       "metadata": {},
       "output_type": "pyout",
       "prompt_number": 8,
       "text": [
        "<matplotlib.collections.QuadMesh at 0x7f326a552b10>"
       ]
      },
      {
       "metadata": {},
       "output_type": "display_data",
       "png": "[encoded data removed]",
       "text": [
        "<matplotlib.figure.Figure at 0x7f32a0c0bfd0>"
       ]
      }
     ],
     "prompt_number": 8
    },
    {
     "cell_type": "code",
     "collapsed": false,
     "input": [
      "#Plot also the training points\n",
      "plt.figure(figsize=(18,6))\n",
      "plt.pcolormesh(xx, yy, Z, cmap=cmap_light)\n",
      "plt.scatter(X_test[:,2], X_test[:,3], c=Y_test, cmap=cmap_bold)\n",
      "plt.xlim(x_min, x_max)\n",
      "plt.ylim(y_min, y_max)\n",
      "plt.title(\"3-Class classification (k = {}, weights = '{}')\".format(clf.n_neighbors, clf.weights))\n"
     ],
     "language": "python",
     "metadata": {},
     "outputs": [
      {
       "metadata": {},
       "output_type": "pyout",
       "prompt_number": 7,
       "text": [
        "<matplotlib.text.Text at 0x7fdbb0a01490>"
       ]
      },
      {
       "metadata": {},
       "output_type": "display_data",
       "png": "[encoded data removed]",
       "text": [
        "<matplotlib.figure.Figure at 0x7fdbb1c4cd10>"
       ]
      }
     ],
     "prompt_number": 7
    },
    {
     "cell_type": "code",
     "collapsed": false,
     "input": [
      "#Predicting Test\n",
      "clf = neighbors.KNeighborsClassifier(8, weights='uniform')\n",
      "clf.fit(X_train, Y_train)\n",
      "iris_predict = clf.predict(X_test)\n",
      "outcome = iris_predict-Y_test\n"
     ],
     "language": "python",
     "metadata": {},
     "outputs": [],
     "prompt_number": 9
    },
    {
     "cell_type": "code",
     "collapsed": false,
     "input": [
      "#calculating the Error rate\n",
      "print \"Error rate of Jerd's predicted model is \" + str(np.count_nonzero(outcome)/len(Y_test)*100) +\" %\""
     ],
     "language": "python",
     "metadata": {},
     "outputs": [
      {
       "output_type": "stream",
       "stream": "stdout",
       "text": [
        "Error rate of Jerd's predicted model is 0.0 %\n"
       ]
      }
     ],
     "prompt_number": 10
    },
    {
     "cell_type": "heading",
     "level": 1,
     "metadata": {},
     "source": [
      "2. Apply Cross Validation"
     ]
    },
    {
     "cell_type": "code",
     "collapsed": true,
     "input": [
      "from sklearn.cross_validation import cross_val_score\n",
      "n = 8\n",
      "clf = neighbors.KNeighborsClassifier(n)\n",
      "clf.fit(X_train, Y_train)\n",
      "scores = cross_val_score(clf, iris_df.values, iris.target, cv=5)\n",
      "mean_scores = scores.mean()\n",
      "print \"The cross validation score for this model is \" + str(mean_scores)\n",
      "\n",
      "# applying cross validation across multiple n\n",
      "'''\n",
      "n_number= range(1,120)\n",
      "for n in n_number:\n",
      "    clf = neighbors.KNeighborsClassifier(n)\n",
      "    clf.fit(X_train, Y_train)\n",
      "    scores = cross_val_score(clf, iris_df.values, iris.target, cv=5)\n",
      "    mean_scores.append(scores.mean())\n",
      "plt.plot(n_number, mean_scores, linewidth=2.0)\n",
      "score_mx = np.max(mean_scores)\n",
      "print score_mx\n",
      "index = []\n",
      "for i in range(119):\n",
      "    if mean_scores[i] == score_mx:\n",
      "        index.append(i)\n",
      "print \"Optimum N values are \" + str(index)   \n",
      "'''\n",
      "\n",
      "      "
     ],
     "language": "python",
     "metadata": {},
     "outputs": [
      {
       "output_type": "stream",
       "stream": "stdout",
       "text": [
        "The cross validation score for this model is 0.966666666667\n"
       ]
      },
      {
       "metadata": {},
       "output_type": "pyout",
       "prompt_number": 11,
       "text": [
        "'\\nn_number= range(1,120)\\nfor n in n_number:\\n    clf = neighbors.KNeighborsClassifier(n)\\n    clf.fit(X_train, Y_train)\\n    scores = cross_val_score(clf, iris_df.values, iris.target, cv=5)\\n    mean_scores.append(scores.mean())\\nplt.plot(n_number, mean_scores, linewidth=2.0)\\nscore_mx = np.max(mean_scores)\\nprint score_mx\\nindex = []\\nfor i in range(119):\\n    if mean_scores[i] == score_mx:\\n        index.append(i)\\nprint \"Optimum N values are \" + str(index)   \\n'"
       ]
      }
     ],
     "prompt_number": 11
    },
    {
     "cell_type": "heading",
     "level": 1,
     "metadata": {},
     "source": [
      "3. Use your KNN classifier and cross-validation code from (1) and (2) above to\n",
      "determine the optimal value of K"
     ]
    },
    {
     "cell_type": "code",
     "collapsed": false,
     "input": [
      "#Evaluate Score across multiple K\n",
      "k_number = range(1, 100, 1)\n",
      "scores = []\n",
      "for n in k_number:\n",
      "    clf = neighbors.KNeighborsClassifier(n)\n",
      "    clf.fit(X_train, Y_train)\n",
      "    scores.append(clf.score(X_test, Y_test))\n",
      "index = []\n",
      "score_max = np.max(scores)\n",
      "for i in range(99):\n",
      "    if scores[i] == score_max:\n",
      "        index.append(i)\n",
      "print \"Optimum K values are \" + str(index) \n",
      "\n",
      "#Use cross val to test results\n",
      "'''\n",
      "clf = neighbors.KNeighborsClassifier(8)\n",
      "scores = cross_val_score(clf, iris_df.values, iris.target, cv=5)\n",
      "mean_scores = scores.mean()\n",
      "print scores\n",
      "'''"
     ],
     "language": "python",
     "metadata": {},
     "outputs": [
      {
       "output_type": "stream",
       "stream": "stdout",
       "text": [
        "Optimum K values are [5, 6, 7, 8, 10, 11, 12, 13, 16, 17, 18, 20, 24, 25, 26, 31]\n"
       ]
      },
      {
       "metadata": {},
       "output_type": "pyout",
       "prompt_number": 13,
       "text": [
        "'\\nclf = neighbors.KNeighborsClassifier(8)\\nscores = cross_val_score(clf, iris_df.values, iris.target, cv=5)\\nmean_scores = scores.mean()\\nprint scores\\n'"
       ]
      }
     ],
     "prompt_number": 13
    },
    {
     "cell_type": "heading",
     "level": 1,
     "metadata": {},
     "source": [
      "4. plot classifier accuracy versus the hyperparameter K for a\n",
      "range of K that you consider interesting."
     ]
    },
    {
     "cell_type": "code",
     "collapsed": false,
     "input": [
      "k_number = range(1, 100, 1)\n",
      "scores = []\n",
      "for n in k_number:\n",
      "    clf = neighbors.KNeighborsClassifier(n)\n",
      "    clf.fit(X_train, Y_train)\n",
      "    scores.append(clf.score(X_test, Y_test))\n",
      "plt.plot(k_number, scores, linewidth=3.0)\n",
      "\n",
      "#The score is greatest between 5-31 and dips downward when K is larger than 60."
     ],
     "language": "python",
     "metadata": {},
     "outputs": [
      {
       "metadata": {},
       "output_type": "pyout",
       "prompt_number": 12,
       "text": [
        "[<matplotlib.lines.Line2D at 0x7fdbaf76ff10>]"
       ]
      },
      {
       "metadata": {},
       "output_type": "display_data",
       "png": "[encoded data removed]",
       "text": [
        "<matplotlib.figure.Figure at 0x7fdbb1cf4850>"
       ]
      }
     ],
     "prompt_number": 12
    },
    {
     "cell_type": "heading",
     "level": 1,
     "metadata": {},
     "source": [
      "5. write your own implementation of cross-validation in Python without\n",
      "using the cross-validation methods from sklearn"
     ]
    },
    {
     "cell_type": "code",
     "collapsed": false,
     "input": [
      "#function to get chunks of data\n",
      "def chunks(l, n):\n",
      "    for i in xrange(0, len(l), n):\n",
      "     yield l[i:i+n]\n",
      "    \n",
      "    \n",
      "\n",
      "\n",
      "\n",
      "\n"
     ],
     "language": "python",
     "metadata": {},
     "outputs": [],
     "prompt_number": 15
    },
    {
     "cell_type": "code",
     "collapsed": false,
     "input": [
      "#function for cross validation\n",
      "def cross_val (model, input_data, output_data , fold):\n",
      "    #create 5 sample sets\n",
      "    d_size = len(output_data)\n",
      "    random_index = np.random.choice(np.arange(d_size), d_size)\n",
      "    #create 5 input data \n",
      "    in_1 = input_data[random_index[1:d_size/fold], :]\n",
      "    in_2 = input_data[random_index[d_size/fold+1:(2*d_size/fold)], :]\n",
      "    in_3 = input_data[random_index[(2*d_size/fold)+1:(3*d_size/fold)], :]\n",
      "    in_4 = input_data[random_index[3*d_size/fold+1:4*d_size/fold], :]\n",
      "    in_5 = input_data[random_index[4*d_size/fold+1:5*d_size/fold], :]\n",
      "    #create 5 output data\n",
      "    out_1 = output_data[random_index[1:d_size/fold]]\n",
      "    out_2 = output_data[random_index[(d_size/fold)+1:2*d_size/fold]]\n",
      "    out_3 = output_data[random_index[(2*d_size/fold)+1:3*d_size/fold]]\n",
      "    out_4 = output_data[random_index[(3*d_size/fold)+1:4*d_size/fold]]\n",
      "    out_5 = output_data[random_index[(4*d_size/fold)+1:5*d_size/fold]]\n",
      "    a_input = [in_1,in_2,in_3,in_4,in_5]\n",
      "    a_output = [out_1,out_2, out_3, out_4, out_5]\n",
      "    #run model for training sets use 4/5 to train and 1/5 to test\n",
      "    scores = []\n",
      "    for i in range(0, fold):\n",
      "        model.fit(a_input[~i],a_output[~i])\n",
      "        scores = np.append(scores,model.score(a_input[i], a_output[i]))\n",
      "    final_score = scores.mean()\n",
      "    return final_score\n",
      "    "
     ],
     "language": "python",
     "metadata": {},
     "outputs": [],
     "prompt_number": 17
    },
    {
     "cell_type": "code",
     "collapsed": false,
     "input": [
      "k_number = range(1, 100, 1)\n",
      "scores = []\n",
      "for n in k_number:\n",
      "    clf = neighbors.KNeighborsClassifier(n)\n",
      "    clf.fit(X_train, Y_train)\n",
      "    scores.append(clf.score(X_test, Y_test))"
     ],
     "language": "python",
     "metadata": {},
     "outputs": [],
     "prompt_number": 20
    },
    {
     "cell_type": "code",
     "collapsed": false,
     "input": [
      "clf = neighbors.KNeighborsClassifier(8)\n",
      "clf.fit(X_train, Y_train)\n",
      "cross_val(clf, iris.data, iris.target, 5)"
     ],
     "language": "python",
     "metadata": {},
     "outputs": [
      {
       "metadata": {},
       "output_type": "pyout",
       "prompt_number": 21,
       "text": [
        "0.93793103448275872"
       ]
      }
     ],
     "prompt_number": 21
    },
    {
     "cell_type": "heading",
     "level": 1,
     "metadata": {},
     "source": [
      "EXTRA CREDIT 1: Using the value of K obtained in (3) above, vary the\n",
      "number of folds used for cross-validation across an interesting range, e.g. [ 2, 3,\n",
      "5, 6, 10, 15]. How does classifier accuracy vary with the number of folds used?\n",
      "Do you think there exists an optimal number of folds to use for this particular\n",
      "problem? Why or why not?"
     ]
    },
    {
     "cell_type": "markdown",
     "metadata": {},
     "source": []
    },
    {
     "cell_type": "code",
     "collapsed": false,
     "input": [
      "n_number= range(2,50)\n",
      "X_train, X_test, Y_train, Y_test = train_test_split(iris.data, iris.target, test_size=0.3, random_state = 10)\n",
      "mean_scores =[]\n",
      "for n in n_number:\n",
      "    clf = neighbors.KNeighborsClassifier(8)\n",
      "    clf.fit(X_train, Y_train)\n",
      "    scores = cross_val_score(clf, iris_df.values, iris.target, cv = n)\n",
      "    mean_scores = np.append(mean_scores,scores.mean()) \n",
      "plt.plot(n_number, mean_scores, linewidth=2.0)\n"
     ],
     "language": "python",
     "metadata": {},
     "outputs": [
      {
       "metadata": {},
       "output_type": "pyout",
       "prompt_number": 22,
       "text": [
        "[<matplotlib.lines.Line2D at 0x7fdbaf3b47d0>]"
       ]
      },
      {
       "metadata": {},
       "output_type": "display_data",
       "png": "[encoded data removed]",
       "text": [
        "<matplotlib.figure.Figure at 0x7fdbaf424890>"
       ]
      }
     ],
     "prompt_number": 22
    },
    {
     "cell_type": "code",
     "collapsed": false,
     "input": [
      "#Generally greater number of n seems to yield higher scores, but that is because there is more training data and the\n",
      "#testing data set becomes so small that they are easier to fit into the model.\n"
     ],
     "language": "python",
     "metadata": {},
     "outputs": []
    },
    {
     "cell_type": "heading",
     "level": 1,
     "metadata": {},
     "source": [
      "EXTRA CREDIT 2: Write your own implementation of KNN classification in\n",
      "Python, without using the methods from sklearn. Compare your results with\n",
      "the results you obtained using sklearn."
     ]
    },
    {
     "cell_type": "code",
     "collapsed": false,
     "input": [
      "#I will just write the nitial steps for now and will code when I can\n",
      "'''\n",
      "1. For each line item in the input data, subtract the values of each line item with every other line items in the dataset\n",
      "2. Apply the distance equation to the resulting array\n",
      "3. Sort the resulting array\n",
      "4. Pick the n-number of rows from the array\n",
      "5. create the answer array based on those indices. \n",
      "6. count the most common answer in the answer array to classify\n",
      "7. iterate the classification through out the whole data set\n",
      ".\n",
      ".\n",
      ".\n",
      "'''\n",
      "\n",
      "\n"
     ],
     "language": "python",
     "metadata": {},
     "outputs": [],
     "prompt_number": 17
    },
    {
     "cell_type": "code",
     "collapsed": false,
     "input": [],
     "language": "python",
     "metadata": {},
     "outputs": [],
     "prompt_number": 17
    },
    {
     "cell_type": "code",
     "collapsed": false,
     "input": [],
     "language": "python",
     "metadata": {},
     "outputs": [],
     "prompt_number": 17
    }
   ],
   "metadata": {}
  }
 ]
}