{
 "metadata": {
  "name": "",
  "signature": "sha256:11702e0488dbbf8aa8c6c6283180a4432ab3c7a7a5ea3fa485337dcbfc8fbd79"
 },
 "nbformat": 3,
 "nbformat_minor": 0,
 "worksheets": [
  {
   "cells": [
    {
     "cell_type": "code",
     "collapsed": false,
     "input": [
      "import seaborn as sns"
     ],
     "language": "python",
     "metadata": {},
     "outputs": []
    },
    {
     "cell_type": "markdown",
     "metadata": {},
     "source": [
      "*Seaborn is an excellent graphics package for making beautiful plots.*\n",
      "http://stanford.edu/~mwaskom/software/seaborn/"
     ]
    },
    {
     "cell_type": "code",
     "collapsed": false,
     "input": [
      "import pandas as pd\n",
      "import numpy as np\n",
      "import matplotlib.pyplot as plt\n",
      "%matplotlib inline\n",
      "\n",
      "#Floats only show two digits for display\n",
      "pd.set_option('display.precision', 2)"
     ],
     "language": "python",
     "metadata": {},
     "outputs": []
    },
    {
     "cell_type": "heading",
     "level": 1,
     "metadata": {},
     "source": [
      "Pandas"
     ]
    },
    {
     "cell_type": "markdown",
     "metadata": {},
     "source": [
      "- built on top of numpy\n",
      "- supports different data types\n",
      "- It's awesome\n",
      "- more robust than excel\n",
      "- it's similar to R dataframes"
     ]
    },
    {
     "cell_type": "heading",
     "level": 2,
     "metadata": {},
     "source": [
      "Titantic Dataset"
     ]
    },
    {
     "cell_type": "markdown",
     "metadata": {},
     "source": [
      "- Kaggle\n",
      "- well structured"
     ]
    },
    {
     "cell_type": "code",
     "collapsed": false,
     "input": [
      "#What formats does this support?\n",
      "titanic_data = pd.read_csv('http://biostat.mc.vanderbilt.edu/wiki/pub/Main/DataSets/titanic3.csv')"
     ],
     "language": "python",
     "metadata": {},
     "outputs": []
    },
    {
     "cell_type": "code",
     "collapsed": false,
     "input": [
      "type(titanic_data)"
     ],
     "language": "python",
     "metadata": {},
     "outputs": []
    },
    {
     "cell_type": "heading",
     "level": 2,
     "metadata": {},
     "source": [
      "First look at the data"
     ]
    },
    {
     "cell_type": "code",
     "collapsed": false,
     "input": [
      "#Creating the custom structure in python is time consuming an awful\n",
      "titanic_data.head()"
     ],
     "language": "python",
     "metadata": {},
     "outputs": []
    },
    {
     "cell_type": "markdown",
     "metadata": {},
     "source": [
      "- pclass: Which class the passengers ticket was (first (Rose), second, third (Jack))\n",
      "- survived: our classifier: 1 - survived, 0 deceased\n",
      "- sibsp: how many siblings / spouses passenger traveled with\n",
      "- parch: parents travelled wieht\n",
      "- ticket: cost of ticket\n",
      "- embarked: Port of embarcation\n",
      "- body: body identification tag"
     ]
    },
    {
     "cell_type": "code",
     "collapsed": false,
     "input": [
      "titanic_data['pclass']"
     ],
     "language": "python",
     "metadata": {},
     "outputs": []
    },
    {
     "cell_type": "code",
     "collapsed": false,
     "input": [
      "#use either dot notation or ''\n",
      "print titanic_data['pclass'].values\n",
      "print type(titanic_data['pclass'].values)"
     ],
     "language": "python",
     "metadata": {},
     "outputs": []
    },
    {
     "cell_type": "heading",
     "level": 2,
     "metadata": {},
     "source": [
      "Useful pandas functions"
     ]
    },
    {
     "cell_type": "code",
     "collapsed": false,
     "input": [
      "#who paid the most?\n",
      "paid_most = titanic_data.sort(columns=['fare'], ascending=False).head(1)\n",
      "paid_most"
     ],
     "language": "python",
     "metadata": {},
     "outputs": []
    },
    {
     "cell_type": "code",
     "collapsed": false,
     "input": [
      "#What are the counts by embarcation (sic) town\n",
      "titanic_data['embark_town'].value_counts()"
     ],
     "language": "python",
     "metadata": {},
     "outputs": []
    },
    {
     "cell_type": "heading",
     "level": 3,
     "metadata": {},
     "source": [
      "Drop some columns"
     ]
    },
    {
     "cell_type": "code",
     "collapsed": false,
     "input": [
      "titanic_data.drop(['boat','body'], axis=1, inplace=True)"
     ],
     "language": "python",
     "metadata": {},
     "outputs": []
    },
    {
     "cell_type": "code",
     "collapsed": false,
     "input": [
      "#List some columns\n",
      "titanic_data.columns"
     ],
     "language": "python",
     "metadata": {},
     "outputs": []
    },
    {
     "cell_type": "heading",
     "level": 2,
     "metadata": {},
     "source": [
      "Describe the data"
     ]
    },
    {
     "cell_type": "code",
     "collapsed": false,
     "input": [
      "titanic_data.dtypes"
     ],
     "language": "python",
     "metadata": {},
     "outputs": []
    },
    {
     "cell_type": "code",
     "collapsed": false,
     "input": [
      "print \"Describes numeric data\"\n",
      "titanic_data.describe()"
     ],
     "language": "python",
     "metadata": {},
     "outputs": []
    },
    {
     "cell_type": "markdown",
     "metadata": {},
     "source": [
      "- 1309 records\n",
      "- look for missing data"
     ]
    },
    {
     "cell_type": "heading",
     "level": 3,
     "metadata": {},
     "source": [
      "Dealing with an incomplete dataset"
     ]
    },
    {
     "cell_type": "code",
     "collapsed": false,
     "input": [
      "print \"Passenger class: any missing values?\"\n",
      "print titanic_data.pclass.value_counts()\n",
      "print\n",
      "\n",
      "print \"Age only has 1046 values\"\n",
      "print \"Fare's min value is 0; no one paid $0 for a ticket\""
     ],
     "language": "python",
     "metadata": {},
     "outputs": []
    },
    {
     "cell_type": "heading",
     "level": 4,
     "metadata": {},
     "source": [
      "Dealing with missing ages"
     ]
    },
    {
     "cell_type": "code",
     "collapsed": false,
     "input": [
      "nan_ages = np.isnan(titanic_data.age)\n",
      "titanic_data[nan_ages]"
     ],
     "language": "python",
     "metadata": {},
     "outputs": []
    },
    {
     "cell_type": "code",
     "collapsed": false,
     "input": [
      "#Replace the missing ages with mean age\n",
      "mean_age = titanic_data['age'][~nan_ages].mean()\n",
      "titanic_data['age'][nan_ages] = mean_age\n",
      "\n",
      "titanic_data.age.describe()"
     ],
     "language": "python",
     "metadata": {},
     "outputs": []
    },
    {
     "cell_type": "heading",
     "level": 4,
     "metadata": {},
     "source": [
      "Dealing with missing fares"
     ]
    },
    {
     "cell_type": "code",
     "collapsed": false,
     "input": [
      "nan_fares = np.isnan(titanic_data.fare)\n",
      "\n",
      "fig = plt.figure(figsize=(15,5))\n",
      "sns.set_style('whitegrid')\n",
      "ax = fig.add_subplot(1,1,1)\n",
      "\n",
      "sns.violinplot(titanic_data[\"fare\"][~nan_fares], titanic_data[\"pclass\"][~nan_fares], \n",
      "               color=\"BuPu_d\")\n",
      "sns.despine(left=True);\n",
      "ax.set_ylabel(\"Price\", size=24)\n",
      "ax.set_ylabel(\"Class\", size=24)\n",
      "ax.tick_params(axis='both', which='major', labelsize=14)\n",
      "ax.set_ylim(0, 600)\n",
      "print"
     ],
     "language": "python",
     "metadata": {},
     "outputs": []
    },
    {
     "cell_type": "heading",
     "level": 4,
     "metadata": {},
     "source": [
      "impute with mean for class"
     ]
    },
    {
     "cell_type": "code",
     "collapsed": false,
     "input": [
      "classmeans = titanic_data.pivot_table('fare', rows='pclass', aggfunc='mean')\n",
      "print classmeans\n",
      "titanic_data[\"fare\"] = titanic_data.apply(lambda x: classmeans[x['pclass']] if x['fare'] == 0 else x['fare'], axis=1 )\n",
      "titanic_data.describe()"
     ],
     "language": "python",
     "metadata": {},
     "outputs": []
    },
    {
     "cell_type": "heading",
     "level": 2,
     "metadata": {},
     "source": [
      "Create some useful columns in the dataframe"
     ]
    },
    {
     "cell_type": "code",
     "collapsed": false,
     "input": [
      "titanic_data[\"class\"] = titanic_data.pclass.map({1: \"First\", 2: \"Second\", 3: \"Third\"})\n",
      "titanic_data[\"alive\"] = titanic_data.survived.map({0: \"no\", 1: \"yes\"})\n",
      "titanic_data[\"embark_town\"] = titanic_data.embarked.map({\"C\": \"Cherbourg\", \"Q\": \"Queenstown\", \"S\": \"Southampton\"})"
     ],
     "language": "python",
     "metadata": {},
     "outputs": []
    },
    {
     "cell_type": "code",
     "collapsed": false,
     "input": [
      "titanic_data.head()"
     ],
     "language": "python",
     "metadata": {},
     "outputs": []
    },
    {
     "cell_type": "heading",
     "level": 2,
     "metadata": {},
     "source": [
      "Exercises"
     ]
    },
    {
     "cell_type": "code",
     "collapsed": false,
     "input": [
      "#What was the ratio of women to men on board?"
     ],
     "language": "python",
     "metadata": {},
     "outputs": []
    },
    {
     "cell_type": "code",
     "collapsed": false,
     "input": [
      "#How many children (< 12 were on board)?"
     ],
     "language": "python",
     "metadata": {},
     "outputs": []
    },
    {
     "cell_type": "code",
     "collapsed": false,
     "input": [
      "#Who was the oldest passenger to live?"
     ],
     "language": "python",
     "metadata": {},
     "outputs": []
    },
    {
     "cell_type": "heading",
     "level": 2,
     "metadata": {},
     "source": [
      "Explore the data"
     ]
    },
    {
     "cell_type": "code",
     "collapsed": false,
     "input": [
      "fig = plt.figure(figsize=(20,20))\n",
      "\n",
      "sns.factorplot(\"class\", \"survived\", data=titanic_data).set(ylim=(0, 1), title=\"class\")\n",
      "\n",
      "sns.factorplot(\"sex\", \"survived\", data=titanic_data).set(ylim=(0, 1), title=\"gender\")\n",
      "\n",
      "sns.factorplot(\"class\", \"survived\", data=titanic_data, hue=\"sex\").set(ylim=(0, 1), title=\"both\")\n",
      "\n",
      "print"
     ],
     "language": "python",
     "metadata": {},
     "outputs": []
    },
    {
     "cell_type": "code",
     "collapsed": false,
     "input": [],
     "language": "python",
     "metadata": {},
     "outputs": []
    },
    {
     "cell_type": "code",
     "collapsed": false,
     "input": [],
     "language": "python",
     "metadata": {},
     "outputs": []
    }
   ],
   "metadata": {}
  }
 ]
}