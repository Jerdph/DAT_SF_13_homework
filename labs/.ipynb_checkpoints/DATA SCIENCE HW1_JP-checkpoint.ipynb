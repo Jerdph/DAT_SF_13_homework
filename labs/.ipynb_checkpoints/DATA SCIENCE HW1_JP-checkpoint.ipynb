{
 "metadata": {
  "name": "",
  "signature": "sha256:ca04d6e3dd0fdd03f2e42d10e0e32961cf41155be552eaae71168e72d098fd3c"
 },
 "nbformat": 3,
 "nbformat_minor": 0,
 "worksheets": []
}