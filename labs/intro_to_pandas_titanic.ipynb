{
 "metadata": {
  "name": "",
  "signature": "sha256:6bb6c1064e71a2e6782283ffffa44f08e426a631daa3bdfb709ab851c9cd1dd3"
 },
 "nbformat": 3,
 "nbformat_minor": 0,
 "worksheets": [
  {
   "cells": [
    {
     "cell_type": "code",
     "collapsed": false,
     "input": [
      "import "
     ],
     "language": "python",
     "metadata": {},
     "outputs": [
      {
       "ename": "ImportError",
       "evalue": "No module named seaborn",
       "output_type": "pyerr",
       "traceback": [
        "\u001b[1;31m---------------------------------------------------------------------------\u001b[0m\n\u001b[1;31mImportError\u001b[0m                               Traceback (most recent call last)",
        "\u001b[1;32m<ipython-input-1-ed9806ce3570>\u001b[0m in \u001b[0;36m<module>\u001b[1;34m()\u001b[0m\n\u001b[1;32m----> 1\u001b[1;33m \u001b[1;32mimport\u001b[0m \u001b[0mseaborn\u001b[0m \u001b[1;32mas\u001b[0m \u001b[0msns\u001b[0m\u001b[1;33m\u001b[0m\u001b[0m\n\u001b[0m",
        "\u001b[1;31mImportError\u001b[0m: No module named seaborn"
       ]
      }
     ],
     "prompt_number": 1
    },
    {
     "cell_type": "markdown",
     "metadata": {},
     "source": [
      "*Seaborn is an excellent graphics package for making beautiful plots.*\n",
      "http://stanford.edu/~mwaskom/software/seaborn/"
     ]
    },
    {
     "cell_type": "code",
     "collapsed": false,
     "input": [
      "import pandas as pd\n",
      "import numpy as np\n",
      "import matplotlib.pyplot as plt\n",
      "%matplotlib inline\n",
      "\n",
      "#Floats only show two digits for display\n",
      "pd.set_option('display.precision', 2)"
     ],
     "language": "python",
     "metadata": {},
     "outputs": [],
     "prompt_number": 2
    },
    {
     "cell_type": "heading",
     "level": 1,
     "metadata": {},
     "source": [
      "Pandas"
     ]
    },
    {
     "cell_type": "markdown",
     "metadata": {},
     "source": [
      "- built on top of numpy\n",
      "- supports different data types\n",
      "- It's awesome\n",
      "- more robust than excel\n",
      "- it's similar to R dataframes"
     ]
    },
    {
     "cell_type": "heading",
     "level": 2,
     "metadata": {},
     "source": [
      "Titantic Dataset"
     ]
    },
    {
     "cell_type": "markdown",
     "metadata": {},
     "source": [
      "- Kaggle\n",
      "- well structured"
     ]
    },
    {
     "cell_type": "code",
     "collapsed": false,
     "input": [
      "#What formats does this support?\n",
      "titanic_data = pd.read_csv('http://biostat.mc.vanderbilt.edu/wiki/pub/Main/DataSets/titanic3.csv')"
     ],
     "language": "python",
     "metadata": {},
     "outputs": [],
     "prompt_number": 4
    },
    {
     "cell_type": "code",
     "collapsed": false,
     "input": [
      "type(titanic_data)"
     ],
     "language": "python",
     "metadata": {},
     "outputs": [
      {
       "metadata": {},
       "output_type": "pyout",
       "prompt_number": 5,
       "text": [
        "pandas.core.frame.DataFrame"
       ]
      }
     ],
     "prompt_number": 5
    },
    {
     "cell_type": "heading",
     "level": 2,
     "metadata": {},
     "source": [
      "First look at the data"
     ]
    },
    {
     "cell_type": "code",
     "collapsed": false,
     "input": [
      "#Creating the custom structure in python is time consuming an awful\n",
      "titanic_data.head()"
     ],
     "language": "python",
     "metadata": {},
     "outputs": []
    },
    {
     "cell_type": "markdown",
     "metadata": {},
     "source": [
      "- pclass: Which class the passengers ticket was (first (Rose), second, third (Jack))\n",
      "- survived: our classifier: 1 - survived, 0 deceased\n",
      "- sibsp: how many siblings / spouses passenger traveled with\n",
      "- parch: parents travelled wieht\n",
      "- ticket: cost of ticket\n",
      "- embarked: Port of embarcation\n",
      "- body: body identification tag"
     ]
    },
    {
     "cell_type": "code",
     "collapsed": false,
     "input": [
      "titanic_data['pclass']"
     ],
     "language": "python",
     "metadata": {},
     "outputs": []
    },
    {
     "cell_type": "code",
     "collapsed": false,
     "input": [
      "#use either dot notation or ''\n",
      "print titanic_data['pclass'].values\n",
      "print type(titanic_data['pclass'].values)"
     ],
     "language": "python",
     "metadata": {},
     "outputs": []
    },
    {
     "cell_type": "heading",
     "level": 2,
     "metadata": {},
     "source": [
      "Useful pandas functions"
     ]
    },
    {
     "cell_type": "code",
     "collapsed": false,
     "input": [
      "#who paid the most?\n",
      "paid_most = titanic_data.sort(columns=['fare'], ascending=False).head(1)\n",
      "paid_most"
     ],
     "language": "python",
     "metadata": {},
     "outputs": []
    },
    {
     "cell_type": "code",
     "collapsed": false,
     "input": [
      "#What are the counts by embarcation (sic) town\n",
      "titanic_data['embark_town'].value_counts()"
     ],
     "language": "python",
     "metadata": {},
     "outputs": []
    },
    {
     "cell_type": "heading",
     "level": 3,
     "metadata": {},
     "source": [
      "Drop some columns"
     ]
    },
    {
     "cell_type": "code",
     "collapsed": false,
     "input": [
      "titanic_data.drop(['boat','body'], axis=1, inplace=True)"
     ],
     "language": "python",
     "metadata": {},
     "outputs": []
    },
    {
     "cell_type": "code",
     "collapsed": false,
     "input": [
      "#List some columns\n",
      "titanic_data.columns"
     ],
     "language": "python",
     "metadata": {},
     "outputs": []
    },
    {
     "cell_type": "heading",
     "level": 2,
     "metadata": {},
     "source": [
      "Describe the data"
     ]
    },
    {
     "cell_type": "code",
     "collapsed": false,
     "input": [
      "titanic_data.dtypes"
     ],
     "language": "python",
     "metadata": {},
     "outputs": [
      {
       "metadata": {},
       "output_type": "pyout",
       "prompt_number": 7,
       "text": [
        "pclass         int64\n",
        "survived       int64\n",
        "name          object\n",
        "sex           object\n",
        "age          float64\n",
        "sibsp          int64\n",
        "parch          int64\n",
        "ticket        object\n",
        "fare         float64\n",
        "cabin         object\n",
        "embarked      object\n",
        "boat          object\n",
        "body         float64\n",
        "home.dest     object\n",
        "dtype: object"
       ]
      }
     ],
     "prompt_number": 7
    },
    {
     "cell_type": "code",
     "collapsed": false,
     "input": [
      "print \"Describes numeric data\"\n",
      "titanic_data.describe()"
     ],
     "language": "python",
     "metadata": {},
     "outputs": [
      {
       "output_type": "stream",
       "stream": "stdout",
       "text": [
        "Describes numeric data\n"
       ]
      },
      {
       "html": [
        "<div style=\"max-height:1000px;max-width:1500px;overflow:auto;\">\n",
        "<table border=\"1\" class=\"dataframe\">\n",
        "  <thead>\n",
        "    <tr style=\"text-align: right;\">\n",
        "      <th></th>\n",
        "      <th>pclass</th>\n",
        "      <th>survived</th>\n",
        "      <th>age</th>\n",
        "      <th>sibsp</th>\n",
        "      <th>parch</th>\n",
        "      <th>fare</th>\n",
        "      <th>body</th>\n",
        "    </tr>\n",
        "  </thead>\n",
        "  <tbody>\n",
        "    <tr>\n",
        "      <th>count</th>\n",
        "      <td> 1309.0</td>\n",
        "      <td> 1309.0</td>\n",
        "      <td> 1046.0</td>\n",
        "      <td> 1309.0</td>\n",
        "      <td> 1309.0</td>\n",
        "      <td> 1308.0</td>\n",
        "      <td> 121.0</td>\n",
        "    </tr>\n",
        "    <tr>\n",
        "      <th>mean</th>\n",
        "      <td>    2.3</td>\n",
        "      <td>    0.4</td>\n",
        "      <td>   29.9</td>\n",
        "      <td>    0.5</td>\n",
        "      <td>    0.4</td>\n",
        "      <td>   33.3</td>\n",
        "      <td> 160.8</td>\n",
        "    </tr>\n",
        "    <tr>\n",
        "      <th>std</th>\n",
        "      <td>    0.8</td>\n",
        "      <td>    0.5</td>\n",
        "      <td>   14.4</td>\n",
        "      <td>    1.0</td>\n",
        "      <td>    0.9</td>\n",
        "      <td>   51.8</td>\n",
        "      <td>  97.7</td>\n",
        "    </tr>\n",
        "    <tr>\n",
        "      <th>min</th>\n",
        "      <td>    1.0</td>\n",
        "      <td>    0.0</td>\n",
        "      <td>    0.2</td>\n",
        "      <td>    0.0</td>\n",
        "      <td>    0.0</td>\n",
        "      <td>    0.0</td>\n",
        "      <td>   1.0</td>\n",
        "    </tr>\n",
        "    <tr>\n",
        "      <th>25%</th>\n",
        "      <td>    2.0</td>\n",
        "      <td>    0.0</td>\n",
        "      <td>   21.0</td>\n",
        "      <td>    0.0</td>\n",
        "      <td>    0.0</td>\n",
        "      <td>    7.9</td>\n",
        "      <td>  72.0</td>\n",
        "    </tr>\n",
        "    <tr>\n",
        "      <th>50%</th>\n",
        "      <td>    3.0</td>\n",
        "      <td>    0.0</td>\n",
        "      <td>   28.0</td>\n",
        "      <td>    0.0</td>\n",
        "      <td>    0.0</td>\n",
        "      <td>   14.5</td>\n",
        "      <td> 155.0</td>\n",
        "    </tr>\n",
        "    <tr>\n",
        "      <th>75%</th>\n",
        "      <td>    3.0</td>\n",
        "      <td>    1.0</td>\n",
        "      <td>   39.0</td>\n",
        "      <td>    1.0</td>\n",
        "      <td>    0.0</td>\n",
        "      <td>   31.3</td>\n",
        "      <td> 256.0</td>\n",
        "    </tr>\n",
        "    <tr>\n",
        "      <th>max</th>\n",
        "      <td>    3.0</td>\n",
        "      <td>    1.0</td>\n",
        "      <td>   80.0</td>\n",
        "      <td>    8.0</td>\n",
        "      <td>    9.0</td>\n",
        "      <td>  512.3</td>\n",
        "      <td> 328.0</td>\n",
        "    </tr>\n",
        "  </tbody>\n",
        "</table>\n",
        "</div>"
       ],
       "metadata": {},
       "output_type": "pyout",
       "prompt_number": 8,
       "text": [
        "       pclass  survived     age   sibsp   parch    fare   body\n",
        "count  1309.0    1309.0  1046.0  1309.0  1309.0  1308.0  121.0\n",
        "mean      2.3       0.4    29.9     0.5     0.4    33.3  160.8\n",
        "std       0.8       0.5    14.4     1.0     0.9    51.8   97.7\n",
        "min       1.0       0.0     0.2     0.0     0.0     0.0    1.0\n",
        "25%       2.0       0.0    21.0     0.0     0.0     7.9   72.0\n",
        "50%       3.0       0.0    28.0     0.0     0.0    14.5  155.0\n",
        "75%       3.0       1.0    39.0     1.0     0.0    31.3  256.0\n",
        "max       3.0       1.0    80.0     8.0     9.0   512.3  328.0"
       ]
      }
     ],
     "prompt_number": 8
    },
    {
     "cell_type": "markdown",
     "metadata": {},
     "source": [
      "- 1309 records\n",
      "- look for missing data"
     ]
    },
    {
     "cell_type": "heading",
     "level": 3,
     "metadata": {},
     "source": [
      "Dealing with an incomplete dataset"
     ]
    },
    {
     "cell_type": "code",
     "collapsed": false,
     "input": [
      "print \"Passenger class: any missing values?\"\n",
      "print titanic_data.pclass.value_counts()\n",
      "print\n",
      "\n",
      "print \"Age only has 1046 values\"\n",
      "print \"Fare's min value is 0; no one paid $0 for a ticket\""
     ],
     "language": "python",
     "metadata": {},
     "outputs": [
      {
       "output_type": "stream",
       "stream": "stdout",
       "text": [
        "Passenger class: any missing values?\n",
        "3    709\n",
        "1    323\n",
        "2    277\n",
        "dtype: int64\n",
        "\n",
        "Age only has 1046 values\n",
        "Fare's min value is 0; no one paid $0 for a ticket\n"
       ]
      }
     ],
     "prompt_number": 10
    },
    {
     "cell_type": "heading",
     "level": 4,
     "metadata": {},
     "source": [
      "Dealing with missing ages"
     ]
    },
    {
     "cell_type": "code",
     "collapsed": false,
     "input": [
      "nan_ages = np.isnan(titanic_data.age)\n",
      "titanic_data[nan_ages]"
     ],
     "language": "python",
     "metadata": {},
     "outputs": []
    },
    {
     "cell_type": "code",
     "collapsed": false,
     "input": [
      "#Replace the missing ages with mean age\n",
      "mean_age = titanic_data['age'][~nan_ages].mean()\n",
      "titanic_data['age'][nan_ages] = mean_age\n",
      "\n",
      "titanic_data.age.describe()"
     ],
     "language": "python",
     "metadata": {},
     "outputs": [
      {
       "ename": "NameError",
       "evalue": "name 'nan_ages' is not defined",
       "output_type": "pyerr",
       "traceback": [
        "\u001b[1;31m---------------------------------------------------------------------------\u001b[0m\n\u001b[1;31mNameError\u001b[0m                                 Traceback (most recent call last)",
        "\u001b[1;32m<ipython-input-9-d02b16cb10e2>\u001b[0m in \u001b[0;36m<module>\u001b[1;34m()\u001b[0m\n\u001b[0;32m      1\u001b[0m \u001b[1;31m#Replace the missing ages with mean age\u001b[0m\u001b[1;33m\u001b[0m\u001b[1;33m\u001b[0m\u001b[0m\n\u001b[1;32m----> 2\u001b[1;33m \u001b[0mmean_age\u001b[0m \u001b[1;33m=\u001b[0m \u001b[0mtitanic_data\u001b[0m\u001b[1;33m[\u001b[0m\u001b[1;34m'age'\u001b[0m\u001b[1;33m]\u001b[0m\u001b[1;33m[\u001b[0m\u001b[1;33m~\u001b[0m\u001b[0mnan_ages\u001b[0m\u001b[1;33m]\u001b[0m\u001b[1;33m.\u001b[0m\u001b[0mmean\u001b[0m\u001b[1;33m(\u001b[0m\u001b[1;33m)\u001b[0m\u001b[1;33m\u001b[0m\u001b[0m\n\u001b[0m\u001b[0;32m      3\u001b[0m \u001b[0mtitanic_data\u001b[0m\u001b[1;33m[\u001b[0m\u001b[1;34m'age'\u001b[0m\u001b[1;33m]\u001b[0m\u001b[1;33m[\u001b[0m\u001b[0mnan_ages\u001b[0m\u001b[1;33m]\u001b[0m \u001b[1;33m=\u001b[0m \u001b[0mmean_age\u001b[0m\u001b[1;33m\u001b[0m\u001b[0m\n\u001b[0;32m      4\u001b[0m \u001b[1;33m\u001b[0m\u001b[0m\n\u001b[0;32m      5\u001b[0m \u001b[0mtitanic_data\u001b[0m\u001b[1;33m.\u001b[0m\u001b[0mage\u001b[0m\u001b[1;33m.\u001b[0m\u001b[0mdescribe\u001b[0m\u001b[1;33m(\u001b[0m\u001b[1;33m)\u001b[0m\u001b[1;33m\u001b[0m\u001b[0m\n",
        "\u001b[1;31mNameError\u001b[0m: name 'nan_ages' is not defined"
       ]
      }
     ],
     "prompt_number": 9
    },
    {
     "cell_type": "heading",
     "level": 4,
     "metadata": {},
     "source": [
      "Dealing with missing fares"
     ]
    },
    {
     "cell_type": "code",
     "collapsed": false,
     "input": [
      "nan_fares = np.isnan(titanic_data.fare)\n",
      "\n",
      "fig = plt.figure(figsize=(15,5))\n",
      "sns.set_style('whitegrid')\n",
      "ax = fig.add_subplot(1,1,1)\n",
      "\n",
      "sns.violinplot(titanic_data[\"fare\"][~nan_fares], titanic_data[\"pclass\"][~nan_fares], \n",
      "               color=\"BuPu_d\")\n",
      "sns.despine(left=True);\n",
      "ax.set_ylabel(\"Price\", size=24)\n",
      "ax.set_ylabel(\"Class\", size=24)\n",
      "ax.tick_params(axis='both', which='major', labelsize=14)\n",
      "ax.set_ylim(0, 600)\n",
      "print"
     ],
     "language": "python",
     "metadata": {},
     "outputs": []
    },
    {
     "cell_type": "heading",
     "level": 4,
     "metadata": {},
     "source": [
      "impute with mean for class"
     ]
    },
    {
     "cell_type": "code",
     "collapsed": false,
     "input": [
      "classmeans = titanic_data.pivot_table('fare', rows='pclass', aggfunc='mean')\n",
      "print classmeans\n",
      "titanic_data[\"fare\"] = titanic_data.apply(lambda x: classmeans[x['pclass']] if x['fare'] == 0 else x['fare'], axis=1 )\n",
      "titanic_data.describe()"
     ],
     "language": "python",
     "metadata": {},
     "outputs": []
    },
    {
     "cell_type": "heading",
     "level": 2,
     "metadata": {},
     "source": [
      "Create some useful columns in the dataframe"
     ]
    },
    {
     "cell_type": "code",
     "collapsed": false,
     "input": [
      "titanic_data[\"class\"] = titanic_data.pclass.map({1: \"First\", 2: \"Second\", 3: \"Third\"})\n",
      "titanic_data[\"alive\"] = titanic_data.survived.map({0: \"no\", 1: \"yes\"})\n",
      "titanic_data[\"embark_town\"] = titanic_data.embarked.map({\"C\": \"Cherbourg\", \"Q\": \"Queenstown\", \"S\": \"Southampton\"})"
     ],
     "language": "python",
     "metadata": {},
     "outputs": [],
     "prompt_number": 13
    },
    {
     "cell_type": "code",
     "collapsed": false,
     "input": [
      "titanic_data.head()"
     ],
     "language": "python",
     "metadata": {},
     "outputs": [
      {
       "html": [
        "<div style=\"max-height:1000px;max-width:1500px;overflow:auto;\">\n",
        "<table border=\"1\" class=\"dataframe\">\n",
        "  <thead>\n",
        "    <tr style=\"text-align: right;\">\n",
        "      <th></th>\n",
        "      <th>pclass</th>\n",
        "      <th>survived</th>\n",
        "      <th>name</th>\n",
        "      <th>sex</th>\n",
        "      <th>age</th>\n",
        "      <th>sibsp</th>\n",
        "      <th>parch</th>\n",
        "      <th>ticket</th>\n",
        "      <th>fare</th>\n",
        "      <th>cabin</th>\n",
        "      <th>embarked</th>\n",
        "      <th>boat</th>\n",
        "      <th>body</th>\n",
        "      <th>home.dest</th>\n",
        "      <th>class</th>\n",
        "      <th>alive</th>\n",
        "      <th>embark_town</th>\n",
        "    </tr>\n",
        "  </thead>\n",
        "  <tbody>\n",
        "    <tr>\n",
        "      <th>0</th>\n",
        "      <td> 1</td>\n",
        "      <td> 1</td>\n",
        "      <td>                   Allen, Miss. Elisabeth Walton</td>\n",
        "      <td> female</td>\n",
        "      <td> 29.0</td>\n",
        "      <td> 0</td>\n",
        "      <td> 0</td>\n",
        "      <td>  24160</td>\n",
        "      <td> 211.3</td>\n",
        "      <td>      B5</td>\n",
        "      <td> S</td>\n",
        "      <td>   2</td>\n",
        "      <td> NaN</td>\n",
        "      <td>                    St Louis, MO</td>\n",
        "      <td> First</td>\n",
        "      <td> yes</td>\n",
        "      <td> Southampton</td>\n",
        "    </tr>\n",
        "    <tr>\n",
        "      <th>1</th>\n",
        "      <td> 1</td>\n",
        "      <td> 1</td>\n",
        "      <td>                  Allison, Master. Hudson Trevor</td>\n",
        "      <td>   male</td>\n",
        "      <td>  0.9</td>\n",
        "      <td> 1</td>\n",
        "      <td> 2</td>\n",
        "      <td> 113781</td>\n",
        "      <td> 151.6</td>\n",
        "      <td> C22 C26</td>\n",
        "      <td> S</td>\n",
        "      <td>  11</td>\n",
        "      <td> NaN</td>\n",
        "      <td> Montreal, PQ / Chesterville, ON</td>\n",
        "      <td> First</td>\n",
        "      <td> yes</td>\n",
        "      <td> Southampton</td>\n",
        "    </tr>\n",
        "    <tr>\n",
        "      <th>2</th>\n",
        "      <td> 1</td>\n",
        "      <td> 0</td>\n",
        "      <td>                    Allison, Miss. Helen Loraine</td>\n",
        "      <td> female</td>\n",
        "      <td>  2.0</td>\n",
        "      <td> 1</td>\n",
        "      <td> 2</td>\n",
        "      <td> 113781</td>\n",
        "      <td> 151.6</td>\n",
        "      <td> C22 C26</td>\n",
        "      <td> S</td>\n",
        "      <td> NaN</td>\n",
        "      <td> NaN</td>\n",
        "      <td> Montreal, PQ / Chesterville, ON</td>\n",
        "      <td> First</td>\n",
        "      <td>  no</td>\n",
        "      <td> Southampton</td>\n",
        "    </tr>\n",
        "    <tr>\n",
        "      <th>3</th>\n",
        "      <td> 1</td>\n",
        "      <td> 0</td>\n",
        "      <td>            Allison, Mr. Hudson Joshua Creighton</td>\n",
        "      <td>   male</td>\n",
        "      <td> 30.0</td>\n",
        "      <td> 1</td>\n",
        "      <td> 2</td>\n",
        "      <td> 113781</td>\n",
        "      <td> 151.6</td>\n",
        "      <td> C22 C26</td>\n",
        "      <td> S</td>\n",
        "      <td> NaN</td>\n",
        "      <td> 135</td>\n",
        "      <td> Montreal, PQ / Chesterville, ON</td>\n",
        "      <td> First</td>\n",
        "      <td>  no</td>\n",
        "      <td> Southampton</td>\n",
        "    </tr>\n",
        "    <tr>\n",
        "      <th>4</th>\n",
        "      <td> 1</td>\n",
        "      <td> 0</td>\n",
        "      <td> Allison, Mrs. Hudson J C (Bessie Waldo Daniels)</td>\n",
        "      <td> female</td>\n",
        "      <td> 25.0</td>\n",
        "      <td> 1</td>\n",
        "      <td> 2</td>\n",
        "      <td> 113781</td>\n",
        "      <td> 151.6</td>\n",
        "      <td> C22 C26</td>\n",
        "      <td> S</td>\n",
        "      <td> NaN</td>\n",
        "      <td> NaN</td>\n",
        "      <td> Montreal, PQ / Chesterville, ON</td>\n",
        "      <td> First</td>\n",
        "      <td>  no</td>\n",
        "      <td> Southampton</td>\n",
        "    </tr>\n",
        "  </tbody>\n",
        "</table>\n",
        "</div>"
       ],
       "metadata": {},
       "output_type": "pyout",
       "prompt_number": 14,
       "text": [
        "   pclass  survived                                             name     sex  \\\n",
        "0       1         1                    Allen, Miss. Elisabeth Walton  female   \n",
        "1       1         1                   Allison, Master. Hudson Trevor    male   \n",
        "2       1         0                     Allison, Miss. Helen Loraine  female   \n",
        "3       1         0             Allison, Mr. Hudson Joshua Creighton    male   \n",
        "4       1         0  Allison, Mrs. Hudson J C (Bessie Waldo Daniels)  female   \n",
        "\n",
        "    age  sibsp  parch  ticket   fare    cabin embarked boat  body  \\\n",
        "0  29.0      0      0   24160  211.3       B5        S    2   NaN   \n",
        "1   0.9      1      2  113781  151.6  C22 C26        S   11   NaN   \n",
        "2   2.0      1      2  113781  151.6  C22 C26        S  NaN   NaN   \n",
        "3  30.0      1      2  113781  151.6  C22 C26        S  NaN   135   \n",
        "4  25.0      1      2  113781  151.6  C22 C26        S  NaN   NaN   \n",
        "\n",
        "                         home.dest  class alive  embark_town  \n",
        "0                     St Louis, MO  First   yes  Southampton  \n",
        "1  Montreal, PQ / Chesterville, ON  First   yes  Southampton  \n",
        "2  Montreal, PQ / Chesterville, ON  First    no  Southampton  \n",
        "3  Montreal, PQ / Chesterville, ON  First    no  Southampton  \n",
        "4  Montreal, PQ / Chesterville, ON  First    no  Southampton  "
       ]
      }
     ],
     "prompt_number": 14
    },
    {
     "cell_type": "heading",
     "level": 2,
     "metadata": {},
     "source": [
      "Exercises"
     ]
    },
    {
     "cell_type": "code",
     "collapsed": false,
     "input": [
      "#What was the ratio of women to men on board?"
     ],
     "language": "python",
     "metadata": {},
     "outputs": []
    },
    {
     "cell_type": "code",
     "collapsed": false,
     "input": [
      "#How many children (< 12 were on board)?"
     ],
     "language": "python",
     "metadata": {},
     "outputs": []
    },
    {
     "cell_type": "code",
     "collapsed": false,
     "input": [
      "#Who was the oldest passenger to live?"
     ],
     "language": "python",
     "metadata": {},
     "outputs": []
    },
    {
     "cell_type": "heading",
     "level": 2,
     "metadata": {},
     "source": [
      "Explore the data"
     ]
    },
    {
     "cell_type": "code",
     "collapsed": false,
     "input": [
      "fig = plt.figure(figsize=(20,20))\n",
      "\n",
      "sns.factorplot(\"class\", \"survived\", data=titanic_data).set(ylim=(0, 1), title=\"class\")\n",
      "\n",
      "sns.factorplot(\"sex\", \"survived\", data=titanic_data).set(ylim=(0, 1), title=\"gender\")\n",
      "\n",
      "sns.factorplot(\"class\", \"survived\", data=titanic_data, hue=\"sex\").set(ylim=(0, 1), title=\"both\")\n",
      "\n",
      "print"
     ],
     "language": "python",
     "metadata": {},
     "outputs": [
      {
       "ename": "NameError",
       "evalue": "name 'sns' is not defined",
       "output_type": "pyerr",
       "traceback": [
        "\u001b[1;31m---------------------------------------------------------------------------\u001b[0m\n\u001b[1;31mNameError\u001b[0m                                 Traceback (most recent call last)",
        "\u001b[1;32m<ipython-input-11-7a8c67758421>\u001b[0m in \u001b[0;36m<module>\u001b[1;34m()\u001b[0m\n\u001b[0;32m      1\u001b[0m \u001b[0mfig\u001b[0m \u001b[1;33m=\u001b[0m \u001b[0mplt\u001b[0m\u001b[1;33m.\u001b[0m\u001b[0mfigure\u001b[0m\u001b[1;33m(\u001b[0m\u001b[0mfigsize\u001b[0m\u001b[1;33m=\u001b[0m\u001b[1;33m(\u001b[0m\u001b[1;36m20\u001b[0m\u001b[1;33m,\u001b[0m\u001b[1;36m20\u001b[0m\u001b[1;33m)\u001b[0m\u001b[1;33m)\u001b[0m\u001b[1;33m\u001b[0m\u001b[0m\n\u001b[0;32m      2\u001b[0m \u001b[1;33m\u001b[0m\u001b[0m\n\u001b[1;32m----> 3\u001b[1;33m \u001b[0msns\u001b[0m\u001b[1;33m.\u001b[0m\u001b[0mfactorplot\u001b[0m\u001b[1;33m(\u001b[0m\u001b[1;34m\"class\"\u001b[0m\u001b[1;33m,\u001b[0m \u001b[1;34m\"survived\"\u001b[0m\u001b[1;33m,\u001b[0m \u001b[0mdata\u001b[0m\u001b[1;33m=\u001b[0m\u001b[0mtitanic_data\u001b[0m\u001b[1;33m)\u001b[0m\u001b[1;33m.\u001b[0m\u001b[0mset\u001b[0m\u001b[1;33m(\u001b[0m\u001b[0mylim\u001b[0m\u001b[1;33m=\u001b[0m\u001b[1;33m(\u001b[0m\u001b[1;36m0\u001b[0m\u001b[1;33m,\u001b[0m \u001b[1;36m1\u001b[0m\u001b[1;33m)\u001b[0m\u001b[1;33m,\u001b[0m \u001b[0mtitle\u001b[0m\u001b[1;33m=\u001b[0m\u001b[1;34m\"class\"\u001b[0m\u001b[1;33m)\u001b[0m\u001b[1;33m\u001b[0m\u001b[0m\n\u001b[0m\u001b[0;32m      4\u001b[0m \u001b[1;33m\u001b[0m\u001b[0m\n\u001b[0;32m      5\u001b[0m \u001b[0msns\u001b[0m\u001b[1;33m.\u001b[0m\u001b[0mfactorplot\u001b[0m\u001b[1;33m(\u001b[0m\u001b[1;34m\"sex\"\u001b[0m\u001b[1;33m,\u001b[0m \u001b[1;34m\"survived\"\u001b[0m\u001b[1;33m,\u001b[0m \u001b[0mdata\u001b[0m\u001b[1;33m=\u001b[0m\u001b[0mtitanic_data\u001b[0m\u001b[1;33m)\u001b[0m\u001b[1;33m.\u001b[0m\u001b[0mset\u001b[0m\u001b[1;33m(\u001b[0m\u001b[0mylim\u001b[0m\u001b[1;33m=\u001b[0m\u001b[1;33m(\u001b[0m\u001b[1;36m0\u001b[0m\u001b[1;33m,\u001b[0m \u001b[1;36m1\u001b[0m\u001b[1;33m)\u001b[0m\u001b[1;33m,\u001b[0m \u001b[0mtitle\u001b[0m\u001b[1;33m=\u001b[0m\u001b[1;34m\"gender\"\u001b[0m\u001b[1;33m)\u001b[0m\u001b[1;33m\u001b[0m\u001b[0m\n",
        "\u001b[1;31mNameError\u001b[0m: name 'sns' is not defined"
       ]
      },
      {
       "metadata": {},
       "output_type": "display_data",
       "text": [
        "<matplotlib.figure.Figure at 0x7e97c10>"
       ]
      }
     ],
     "prompt_number": 11
    },
    {
     "cell_type": "code",
     "collapsed": false,
     "input": [],
     "language": "python",
     "metadata": {},
     "outputs": []
    },
    {
     "cell_type": "code",
     "collapsed": false,
     "input": [],
     "language": "python",
     "metadata": {},
     "outputs": []
    }
   ],
   "metadata": {}
  }
 ]
}